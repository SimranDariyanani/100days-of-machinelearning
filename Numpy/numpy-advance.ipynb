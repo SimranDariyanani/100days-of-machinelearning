{
 "cells": [
  {
   "cell_type": "code",
   "execution_count": 1,
   "id": "ac752b39-b285-4acd-911d-65ed041bc02e",
   "metadata": {},
   "outputs": [],
   "source": [
    "import numpy as np"
   ]
  },
  {
   "cell_type": "markdown",
   "id": "0ac5b50f-372e-4776-acb5-9466adb1d303",
   "metadata": {},
   "source": [
    "### Numpy array Vs Python list"
   ]
  },
  {
   "cell_type": "markdown",
   "id": "4a134a97-d618-492a-bbd4-4f580c8bd036",
   "metadata": {},
   "source": [
    "##### speed and convenience"
   ]
  },
  {
   "cell_type": "code",
   "execution_count": 2,
   "id": "916d74db-153e-4ef5-8651-649ed7da4f6f",
   "metadata": {},
   "outputs": [],
   "source": [
    "a = [i for i in range(10000000)]\n",
    "b = [i for i in range(10000000)]\n",
    "c = []"
   ]
  },
  {
   "cell_type": "code",
   "execution_count": 3,
   "id": "7b434651-1946-436c-8e24-69f489c80e29",
   "metadata": {},
   "outputs": [],
   "source": [
    "import time"
   ]
  },
  {
   "cell_type": "code",
   "execution_count": 4,
   "id": "287296f4-a4fd-4289-88c6-a39689ffe9ed",
   "metadata": {},
   "outputs": [
    {
     "name": "stdout",
     "output_type": "stream",
     "text": [
      "1.691279411315918\n"
     ]
    }
   ],
   "source": [
    "start = time.time()\n",
    "for i in range(len(a)):\n",
    "    c.append(a[i]+b[i])\n",
    "print(time.time() - start)"
   ]
  },
  {
   "cell_type": "code",
   "execution_count": 5,
   "id": "c5ee1b3f-1b3a-45ea-b614-af97a6f8993f",
   "metadata": {},
   "outputs": [
    {
     "name": "stdout",
     "output_type": "stream",
     "text": [
      "0.13116979598999023\n"
     ]
    }
   ],
   "source": [
    "a = np.arange(10000000)\n",
    "b = np.arange(10000000,20000000)\n",
    "start = time.time()\n",
    "c = a + b\n",
    "print(time.time() - start)"
   ]
  },
  {
   "cell_type": "code",
   "execution_count": 6,
   "id": "3f96b651-96fa-4b1b-bc74-9ccd517112a7",
   "metadata": {},
   "outputs": [
    {
     "data": {
      "text/plain": [
       "12.538461538461537"
      ]
     },
     "execution_count": 6,
     "metadata": {},
     "output_type": "execute_result"
    }
   ],
   "source": [
    "1.63/0.13"
   ]
  },
  {
   "cell_type": "markdown",
   "id": "6b11e029-4f30-40f9-b2fe-42b1c20db560",
   "metadata": {},
   "source": [
    "##### memory"
   ]
  },
  {
   "cell_type": "code",
   "execution_count": 7,
   "id": "b1af5d76-b2aa-49b7-82cc-b4b883372e23",
   "metadata": {},
   "outputs": [
    {
     "name": "stdout",
     "output_type": "stream",
     "text": [
      "89095160\n"
     ]
    }
   ],
   "source": [
    "import sys\n",
    "a = [i for i in range(10000000)]\n",
    "print(sys.getsizeof(a))"
   ]
  },
  {
   "cell_type": "code",
   "execution_count": 8,
   "id": "406d2e30-661d-4993-987b-b6e5a0e26400",
   "metadata": {},
   "outputs": [
    {
     "name": "stdout",
     "output_type": "stream",
     "text": [
      "40000112\n"
     ]
    }
   ],
   "source": [
    "a = np.arange(10000000)\n",
    "print(sys.getsizeof(a))"
   ]
  },
  {
   "cell_type": "markdown",
   "id": "efd171c8-e1bf-4dc7-b4dc-b4fee20ec5b7",
   "metadata": {},
   "source": [
    "### Advance Indexing and slicing"
   ]
  },
  {
   "cell_type": "markdown",
   "id": "02c88d2c-b210-49e0-9cc8-077e94dd4774",
   "metadata": {},
   "source": [
    "##### normal indexing and slicing"
   ]
  },
  {
   "cell_type": "code",
   "execution_count": 9,
   "id": "2a4b604f-8a53-41a2-afd7-7e53ad25adcd",
   "metadata": {},
   "outputs": [
    {
     "data": {
      "text/plain": [
       "array([[ 0,  1,  2],\n",
       "       [ 3,  4,  5],\n",
       "       [ 6,  7,  8],\n",
       "       [ 9, 10, 11]])"
      ]
     },
     "execution_count": 9,
     "metadata": {},
     "output_type": "execute_result"
    }
   ],
   "source": [
    "a = np.arange(12).reshape(4,3)\n",
    "a"
   ]
  },
  {
   "cell_type": "code",
   "execution_count": 10,
   "id": "a1110661-0332-47b9-b8c2-429e11619710",
   "metadata": {},
   "outputs": [
    {
     "data": {
      "text/plain": [
       "5"
      ]
     },
     "execution_count": 10,
     "metadata": {},
     "output_type": "execute_result"
    }
   ],
   "source": [
    "a[1,2]"
   ]
  },
  {
   "cell_type": "code",
   "execution_count": 11,
   "id": "24f2e562-641d-4b1c-bb39-12c65a53c7ff",
   "metadata": {},
   "outputs": [
    {
     "data": {
      "text/plain": [
       "array([[4, 5],\n",
       "       [7, 8]])"
      ]
     },
     "execution_count": 11,
     "metadata": {},
     "output_type": "execute_result"
    }
   ],
   "source": [
    "a[1:3,1:]"
   ]
  },
  {
   "cell_type": "markdown",
   "id": "8990df07-d94d-4b44-9c71-db31ded6d22f",
   "metadata": {},
   "source": [
    "##### Fancy Indexing"
   ]
  },
  {
   "cell_type": "code",
   "execution_count": 12,
   "id": "aacf60c4-1e3d-44ec-abe1-3b4233a28d48",
   "metadata": {},
   "outputs": [
    {
     "data": {
      "text/plain": [
       "array([[ 0,  1,  2,  3],\n",
       "       [ 4,  5,  6,  7],\n",
       "       [ 8,  9, 10, 11],\n",
       "       [12, 13, 14, 15],\n",
       "       [16, 17, 18, 19],\n",
       "       [20, 21, 22, 23]])"
      ]
     },
     "execution_count": 12,
     "metadata": {},
     "output_type": "execute_result"
    }
   ],
   "source": [
    "a = np.arange(24).reshape(6,4)\n",
    "a"
   ]
  },
  {
   "cell_type": "code",
   "execution_count": 13,
   "id": "dcbcbd8e-9355-486f-8944-61d2be121600",
   "metadata": {},
   "outputs": [
    {
     "data": {
      "text/plain": [
       "array([[ 0,  1,  2,  3],\n",
       "       [ 8,  9, 10, 11],\n",
       "       [12, 13, 14, 15],\n",
       "       [20, 21, 22, 23]])"
      ]
     },
     "execution_count": 13,
     "metadata": {},
     "output_type": "execute_result"
    }
   ],
   "source": [
    "a[[0,2,3,5]]"
   ]
  },
  {
   "cell_type": "code",
   "execution_count": 14,
   "id": "0f1fd8c1-8160-4325-ae66-75c687cec20b",
   "metadata": {},
   "outputs": [
    {
     "data": {
      "text/plain": [
       "array([[ 0,  2,  3],\n",
       "       [ 4,  6,  7],\n",
       "       [ 8, 10, 11],\n",
       "       [12, 14, 15],\n",
       "       [16, 18, 19],\n",
       "       [20, 22, 23]])"
      ]
     },
     "execution_count": 14,
     "metadata": {},
     "output_type": "execute_result"
    }
   ],
   "source": [
    "a[:,[0,2,3]]"
   ]
  },
  {
   "cell_type": "code",
   "execution_count": 15,
   "id": "0041a4c1-b71b-497c-9550-aabb1ca9ee1d",
   "metadata": {},
   "outputs": [
    {
     "data": {
      "text/plain": [
       "array([[69, 38, 22, 64],\n",
       "       [76, 76, 60, 37],\n",
       "       [ 7, 48, 56, 83],\n",
       "       [ 4, 61, 73, 33],\n",
       "       [89, 45, 26, 77],\n",
       "       [58, 63, 96, 41]])"
      ]
     },
     "execution_count": 15,
     "metadata": {},
     "output_type": "execute_result"
    }
   ],
   "source": [
    "a = np.random.randint(1,100,24).reshape(6,4)\n",
    "a"
   ]
  },
  {
   "cell_type": "code",
   "execution_count": 16,
   "id": "c91855ed-307c-4c05-a299-691b71680d73",
   "metadata": {},
   "outputs": [
    {
     "data": {
      "text/plain": [
       "array([69, 64, 76, 76, 60, 56, 83, 61, 73, 89, 77, 58, 63, 96])"
      ]
     },
     "execution_count": 16,
     "metadata": {},
     "output_type": "execute_result"
    }
   ],
   "source": [
    "a[a>50]"
   ]
  },
  {
   "cell_type": "code",
   "execution_count": 17,
   "id": "51168ba9-f037-4b9e-b33a-1ce8da959c4b",
   "metadata": {},
   "outputs": [
    {
     "data": {
      "text/plain": [
       "array([38, 22, 64, 76, 76, 60, 48, 56,  4, 26, 58, 96])"
      ]
     },
     "execution_count": 17,
     "metadata": {},
     "output_type": "execute_result"
    }
   ],
   "source": [
    "a[a%2==0]"
   ]
  },
  {
   "cell_type": "code",
   "execution_count": 18,
   "id": "b5a87899-0f29-4cd6-bf38-36a782e0a4d0",
   "metadata": {},
   "outputs": [
    {
     "data": {
      "text/plain": [
       "array([64, 76, 76, 60, 56, 58, 96])"
      ]
     },
     "execution_count": 18,
     "metadata": {},
     "output_type": "execute_result"
    }
   ],
   "source": [
    "a[(a%2==0) & (a>50)]"
   ]
  },
  {
   "cell_type": "code",
   "execution_count": 19,
   "id": "ce73d222-0142-4763-855c-5b80d2293cde",
   "metadata": {},
   "outputs": [
    {
     "data": {
      "text/plain": [
       "array([69, 38, 22, 64, 76, 76, 60, 37, 48, 83,  4, 61, 73, 33, 89, 45, 26,\n",
       "       58, 96, 41])"
      ]
     },
     "execution_count": 19,
     "metadata": {},
     "output_type": "execute_result"
    }
   ],
   "source": [
    "a[~(a%7==0)]"
   ]
  },
  {
   "cell_type": "markdown",
   "id": "37e2ae3f-746e-4667-a1c3-ffa20bb5c582",
   "metadata": {},
   "source": [
    "### Broadcasting"
   ]
  },
  {
   "cell_type": "code",
   "execution_count": 20,
   "id": "2cdabb9a-cc9b-4627-91bf-90950d544f0b",
   "metadata": {},
   "outputs": [
    {
     "data": {
      "text/plain": [
       "array([[0, 1, 2],\n",
       "       [3, 4, 5]])"
      ]
     },
     "execution_count": 20,
     "metadata": {},
     "output_type": "execute_result"
    }
   ],
   "source": [
    "#same shape\n",
    "a = np.arange(6).reshape(2,3)\n",
    "b = np.arange(6,12).reshape(2,3)\n",
    "a"
   ]
  },
  {
   "cell_type": "code",
   "execution_count": 21,
   "id": "62b64fac-9d25-4ff1-b8b1-e9deeac5d6be",
   "metadata": {},
   "outputs": [
    {
     "data": {
      "text/plain": [
       "array([[ 6,  7,  8],\n",
       "       [ 9, 10, 11]])"
      ]
     },
     "execution_count": 21,
     "metadata": {},
     "output_type": "execute_result"
    }
   ],
   "source": [
    "b"
   ]
  },
  {
   "cell_type": "code",
   "execution_count": 22,
   "id": "f96caa65-8fe8-4627-8730-ce25524b466c",
   "metadata": {},
   "outputs": [
    {
     "name": "stdout",
     "output_type": "stream",
     "text": [
      "[[ 6  8 10]\n",
      " [12 14 16]]\n"
     ]
    }
   ],
   "source": [
    "print(a +b)"
   ]
  },
  {
   "cell_type": "code",
   "execution_count": 23,
   "id": "7962fa4d-60b9-4774-b779-f7215477697c",
   "metadata": {},
   "outputs": [
    {
     "data": {
      "text/plain": [
       "array([[0, 1, 2],\n",
       "       [3, 4, 5]])"
      ]
     },
     "execution_count": 23,
     "metadata": {},
     "output_type": "execute_result"
    }
   ],
   "source": [
    "a = np.arange(6).reshape(2,3)\n",
    "b = np.arange(3).reshape(1,3)\n",
    "a"
   ]
  },
  {
   "cell_type": "code",
   "execution_count": 24,
   "id": "092fc68c-6091-475a-83db-624d9e334f80",
   "metadata": {},
   "outputs": [
    {
     "data": {
      "text/plain": [
       "array([[0, 1, 2]])"
      ]
     },
     "execution_count": 24,
     "metadata": {},
     "output_type": "execute_result"
    }
   ],
   "source": [
    "b"
   ]
  },
  {
   "cell_type": "code",
   "execution_count": 25,
   "id": "27a56499-2bd2-4d73-87b4-c2ed97ec37e5",
   "metadata": {},
   "outputs": [
    {
     "name": "stdout",
     "output_type": "stream",
     "text": [
      "[[0 2 4]\n",
      " [3 5 7]]\n"
     ]
    }
   ],
   "source": [
    "print(a + b)"
   ]
  },
  {
   "cell_type": "code",
   "execution_count": 26,
   "id": "3b468f37-ea70-41a8-8390-66af9fd25f47",
   "metadata": {},
   "outputs": [
    {
     "name": "stdout",
     "output_type": "stream",
     "text": [
      "[[ 0  1  2]\n",
      " [ 3  4  5]\n",
      " [ 6  7  8]\n",
      " [ 9 10 11]]\n",
      "[0 1 2]\n"
     ]
    }
   ],
   "source": [
    "a = np.arange(12).reshape(4,3)\n",
    "b = np.arange(3)\n",
    "\n",
    "print(a)\n",
    "print(b)"
   ]
  },
  {
   "cell_type": "code",
   "execution_count": 27,
   "id": "edb52474-60c4-4e3a-b346-5d725f52755d",
   "metadata": {},
   "outputs": [
    {
     "data": {
      "text/plain": [
       "array([[ 0,  2,  4],\n",
       "       [ 3,  5,  7],\n",
       "       [ 6,  8, 10],\n",
       "       [ 9, 11, 13]])"
      ]
     },
     "execution_count": 27,
     "metadata": {},
     "output_type": "execute_result"
    }
   ],
   "source": [
    "a + b"
   ]
  },
  {
   "cell_type": "code",
   "execution_count": 28,
   "id": "88cbad34-8580-4235-bbea-206e5013e973",
   "metadata": {},
   "outputs": [
    {
     "name": "stdout",
     "output_type": "stream",
     "text": [
      "[[ 0  1  2  3]\n",
      " [ 4  5  6  7]\n",
      " [ 8  9 10 11]]\n",
      "[0 1 2]\n"
     ]
    }
   ],
   "source": [
    "a = np.arange(12).reshape(3,4)\n",
    "b = np.arange(3)\n",
    "\n",
    "print(a)\n",
    "print(b)"
   ]
  },
  {
   "cell_type": "code",
   "execution_count": 29,
   "id": "1b165fb1-c2c8-464f-85a7-85a03cac1015",
   "metadata": {},
   "outputs": [],
   "source": [
    "#print(a + b)"
   ]
  },
  {
   "cell_type": "code",
   "execution_count": 30,
   "id": "ef4ca1df-6e03-4562-9297-29a633b0d03c",
   "metadata": {},
   "outputs": [
    {
     "name": "stdout",
     "output_type": "stream",
     "text": [
      "[[ 0  1  2  3]\n",
      " [ 4  5  6  7]\n",
      " [ 8  9 10 11]]\n",
      "[0 1 2 3]\n"
     ]
    }
   ],
   "source": [
    "a = np.arange(12).reshape(3,4)\n",
    "b = np.arange(4)\n",
    "\n",
    "print(a)\n",
    "print(b)"
   ]
  },
  {
   "cell_type": "code",
   "execution_count": 31,
   "id": "e83a06c1-e064-4a8e-9468-4e6d6be22dc5",
   "metadata": {},
   "outputs": [
    {
     "name": "stdout",
     "output_type": "stream",
     "text": [
      "[[ 0  2  4  6]\n",
      " [ 4  6  8 10]\n",
      " [ 8 10 12 14]]\n"
     ]
    }
   ],
   "source": [
    "print(a + b)"
   ]
  },
  {
   "cell_type": "code",
   "execution_count": 32,
   "id": "96a8bce4-7897-4225-950e-77329701e79b",
   "metadata": {},
   "outputs": [
    {
     "name": "stdout",
     "output_type": "stream",
     "text": [
      "[[0 1 2]]\n",
      "[[0]\n",
      " [1]\n",
      " [2]]\n"
     ]
    }
   ],
   "source": [
    "a = np.arange(3).reshape(1,3)\n",
    "b = np.arange(3).reshape(3,1)\n",
    "\n",
    "print(a)\n",
    "print(b)"
   ]
  },
  {
   "cell_type": "code",
   "execution_count": 33,
   "id": "184a5784-8e0f-489a-bd32-1dc70d451c9a",
   "metadata": {},
   "outputs": [
    {
     "name": "stdout",
     "output_type": "stream",
     "text": [
      "[[0 1 2]\n",
      " [1 2 3]\n",
      " [2 3 4]]\n"
     ]
    }
   ],
   "source": [
    "print(a + b)"
   ]
  },
  {
   "cell_type": "code",
   "execution_count": 34,
   "id": "c0f9c27c-9a9c-4eea-88c7-69a0b156cdc6",
   "metadata": {},
   "outputs": [
    {
     "name": "stdout",
     "output_type": "stream",
     "text": [
      "[[0 1 2]]\n",
      "[[0]\n",
      " [1]\n",
      " [2]\n",
      " [3]]\n"
     ]
    }
   ],
   "source": [
    "a = np.arange(3).reshape(1,3)\n",
    "b = np.arange(4).reshape(4,1)\n",
    "\n",
    "print(a)\n",
    "print(b)"
   ]
  },
  {
   "cell_type": "code",
   "execution_count": 35,
   "id": "939cb813-e160-4006-8f25-d17b94ffa8e0",
   "metadata": {},
   "outputs": [
    {
     "name": "stdout",
     "output_type": "stream",
     "text": [
      "[[0 1 2]\n",
      " [1 2 3]\n",
      " [2 3 4]\n",
      " [3 4 5]]\n"
     ]
    }
   ],
   "source": [
    "print(a + b)"
   ]
  },
  {
   "cell_type": "code",
   "execution_count": 36,
   "id": "2eb5bdca-f96b-4f57-90be-8d0fe8ab2aa9",
   "metadata": {},
   "outputs": [
    {
     "name": "stdout",
     "output_type": "stream",
     "text": [
      "[1]\n",
      "[[0 1]\n",
      " [2 3]]\n"
     ]
    }
   ],
   "source": [
    "a = np.array([1])\n",
    "b = np.arange(4).reshape(2,2)\n",
    "print(a)\n",
    "print(b)"
   ]
  },
  {
   "cell_type": "code",
   "execution_count": 37,
   "id": "b7f5d93c-f75b-42a0-abf1-40fd00a02587",
   "metadata": {},
   "outputs": [
    {
     "name": "stdout",
     "output_type": "stream",
     "text": [
      "[[1 2]\n",
      " [3 4]]\n"
     ]
    }
   ],
   "source": [
    "print(a + b)"
   ]
  },
  {
   "cell_type": "code",
   "execution_count": 38,
   "id": "acde2f6b-c9b1-4e33-9d23-67510efd83fb",
   "metadata": {},
   "outputs": [
    {
     "name": "stdout",
     "output_type": "stream",
     "text": [
      "[[ 0  1  2  3]\n",
      " [ 4  5  6  7]\n",
      " [ 8  9 10 11]]\n",
      "[[ 0  1  2]\n",
      " [ 3  4  5]\n",
      " [ 6  7  8]\n",
      " [ 9 10 11]]\n"
     ]
    }
   ],
   "source": [
    "a = np.arange(12).reshape(3,4)\n",
    "b = np.arange(12).reshape(4,3)\n",
    "\n",
    "print(a)\n",
    "print(b)"
   ]
  },
  {
   "cell_type": "code",
   "execution_count": 39,
   "id": "2b9c8da6-4eb4-45fb-b88d-b75f89565056",
   "metadata": {},
   "outputs": [],
   "source": [
    "#print(a + b)"
   ]
  },
  {
   "cell_type": "markdown",
   "id": "107de256-3314-443e-b279-e23f076f0031",
   "metadata": {},
   "source": [
    "### Working with mathematical formulas"
   ]
  },
  {
   "cell_type": "code",
   "execution_count": 41,
   "id": "7a0f696d-5ac0-4125-87e6-4e77f10975f8",
   "metadata": {},
   "outputs": [],
   "source": [
    "def sigmoid(array):\n",
    "    return 1/(1+np.exp(-(array)))"
   ]
  },
  {
   "cell_type": "code",
   "execution_count": 42,
   "id": "4d4c99fe-8a91-459a-8ca3-c881da96aa61",
   "metadata": {},
   "outputs": [
    {
     "data": {
      "text/plain": [
       "array([0.5       , 0.73105858, 0.88079708, 0.95257413, 0.98201379,\n",
       "       0.99330715, 0.99752738, 0.99908895, 0.99966465, 0.99987661])"
      ]
     },
     "execution_count": 42,
     "metadata": {},
     "output_type": "execute_result"
    }
   ],
   "source": [
    "a = np.arange(10)\n",
    "sigmoid(a)"
   ]
  },
  {
   "cell_type": "code",
   "execution_count": 44,
   "id": "4745c92b-90f2-4a70-8dff-085c5ef8c61e",
   "metadata": {},
   "outputs": [
    {
     "data": {
      "text/plain": [
       "1.6384"
      ]
     },
     "execution_count": 44,
     "metadata": {},
     "output_type": "execute_result"
    }
   ],
   "source": [
    "actual = np.random.randint(1,50,25)\n",
    "predicted = np.random.randint(1,50,25)\n",
    "\n",
    "def mse(actual,predicted):\n",
    "    return np.mean(actual-predicted)**2\n",
    "mse(actual,predicted)"
   ]
  },
  {
   "cell_type": "markdown",
   "id": "342a28e0-9552-4f24-a995-c04dff24a82e",
   "metadata": {},
   "source": [
    "### Working with missing values"
   ]
  },
  {
   "cell_type": "code",
   "execution_count": 51,
   "id": "6b5cf35c-a6ac-4004-a0fa-d41e132c204d",
   "metadata": {},
   "outputs": [
    {
     "data": {
      "text/plain": [
       "array([ 1.,  2.,  3.,  4., nan,  6.])"
      ]
     },
     "execution_count": 51,
     "metadata": {},
     "output_type": "execute_result"
    }
   ],
   "source": [
    "a = np.array([1,2,3,4,np.nan,6])\n",
    "a"
   ]
  },
  {
   "cell_type": "code",
   "execution_count": 54,
   "id": "a999e925-6218-4b19-a9d4-3300e1d9f3b8",
   "metadata": {},
   "outputs": [
    {
     "data": {
      "text/plain": [
       "array([1., 2., 3., 4., 6.])"
      ]
     },
     "execution_count": 54,
     "metadata": {},
     "output_type": "execute_result"
    }
   ],
   "source": [
    "a[~np.isnan(a)]"
   ]
  },
  {
   "cell_type": "markdown",
   "id": "ec3c9bc6-f104-42bc-be6d-fd394bbe26cd",
   "metadata": {},
   "source": [
    "### Plotting graphs"
   ]
  },
  {
   "cell_type": "markdown",
   "id": "cb7eb69c-ffa3-492a-a17f-7ccc4a79e819",
   "metadata": {},
   "source": [
    "##### x=y  straight line passing through origin"
   ]
  },
  {
   "cell_type": "code",
   "execution_count": 56,
   "id": "19de6076-5775-427a-af08-86c826d7e8fd",
   "metadata": {},
   "outputs": [],
   "source": [
    "x = np.linspace(10,-10,100)\n",
    "y = x"
   ]
  },
  {
   "cell_type": "code",
   "execution_count": 57,
   "id": "da6c5127-9471-4871-8fd7-ac03181a60c7",
   "metadata": {},
   "outputs": [],
   "source": [
    "import matplotlib.pyplot as plt"
   ]
  },
  {
   "cell_type": "code",
   "execution_count": 60,
   "id": "5a26c0fb-af83-437f-a71c-514fcb21c967",
   "metadata": {},
   "outputs": [
    {
     "data": {
      "text/plain": [
       "[<matplotlib.lines.Line2D at 0x19687016420>]"
      ]
     },
     "execution_count": 60,
     "metadata": {},
     "output_type": "execute_result"
    },
    {
     "data": {
      "image/png": "[encoded data removed]",
      "text/plain": [
       "<Figure size 640x480 with 1 Axes>"
      ]
     },
     "metadata": {},
     "output_type": "display_data"
    }
   ],
   "source": [
    "plt.plot(x,y)"
   ]
  },
  {
   "cell_type": "markdown",
   "id": "87544525-a177-4c04-bfca-4f3e35100625",
   "metadata": {},
   "source": [
    "##### y = x**2  parabola"
   ]
  },
  {
   "cell_type": "code",
   "execution_count": 61,
   "id": "558fc1d9-5a9d-4cd3-9b80-d4f8d65f11bb",
   "metadata": {},
   "outputs": [],
   "source": [
    "x =  np.linspace(10,-10,100)\n",
    "y = x**2"
   ]
  },
  {
   "cell_type": "code",
   "execution_count": 62,
   "id": "cc74dae9-379f-4352-b608-e454c5c9e053",
   "metadata": {},
   "outputs": [
    {
     "data": {
      "text/plain": [
       "[<matplotlib.lines.Line2D at 0x19687026060>]"
      ]
     },
     "execution_count": 62,
     "metadata": {},
     "output_type": "execute_result"
    },
    {
     "data": {
      "image/png": "[encoded data removed]",
      "text/plain": [
       "<Figure size 640x480 with 1 Axes>"
      ]
     },
     "metadata": {},
     "output_type": "display_data"
    }
   ],
   "source": [
    "plt.plot(x,y)"
   ]
  },
  {
   "cell_type": "markdown",
   "id": "883f7fbe-14b0-47cd-9835-e6b7cab1e529",
   "metadata": {},
   "source": [
    "##### sigmoid"
   ]
  },
  {
   "cell_type": "code",
   "execution_count": 66,
   "id": "11dfbb6f-2f4c-4966-b6b9-0bab6412cac1",
   "metadata": {},
   "outputs": [],
   "source": [
    "x = np.linspace(-10,10,100)\n",
    "y = 1/(1+np.exp(-x))"
   ]
  },
  {
   "cell_type": "code",
   "execution_count": 67,
   "id": "afb4bb63-36f1-4226-a54d-66ff950e8e3b",
   "metadata": {},
   "outputs": [
    {
     "data": {
      "text/plain": [
       "[<matplotlib.lines.Line2D at 0x1968861dc40>]"
      ]
     },
     "execution_count": 67,
     "metadata": {},
     "output_type": "execute_result"
    },
    {
     "data": {
      "image/png": "[encoded data removed]",
      "text/plain": [
       "<Figure size 640x480 with 1 Axes>"
      ]
     },
     "metadata": {},
     "output_type": "display_data"
    }
   ],
   "source": [
    "plt.plot(x,y)"
   ]
  },
  {
   "cell_type": "markdown",
   "id": "b7a1b2d5-af1d-427a-a17c-cf835fedf56c",
   "metadata": {},
   "source": [
    "##### y = sin(x)"
   ]
  },
  {
   "cell_type": "code",
   "execution_count": 69,
   "id": "390d6392-2570-4187-a26f-78f60b8e4a7a",
   "metadata": {},
   "outputs": [
    {
     "data": {
      "text/plain": [
       "[<matplotlib.lines.Line2D at 0x19688801d60>]"
      ]
     },
     "execution_count": 69,
     "metadata": {},
     "output_type": "execute_result"
    },
    {
     "data": {
      "image/png": "[encoded data removed]",
      "text/plain": [
       "<Figure size 640x480 with 1 Axes>"
      ]
     },
     "metadata": {},
     "output_type": "display_data"
    }
   ],
   "source": [
    "x = np.linspace(-10,10,100)\n",
    "y = np.sin(x)\n",
    "plt.plot(x,y)"
   ]
  },
  {
   "cell_type": "markdown",
   "id": "434e0874-aff9-434a-a551-e0c624eb9d61",
   "metadata": {},
   "source": [
    "##### y = xlog(x)"
   ]
  },
  {
   "cell_type": "code",
   "execution_count": 70,
   "id": "2a4aa6ba-b70a-467b-b26a-631c598e0ebc",
   "metadata": {},
   "outputs": [
    {
     "name": "stderr",
     "output_type": "stream",
     "text": [
      "C:\\Users\\simra\\AppData\\Local\\Temp\\ipykernel_18808\\1961417358.py:2: RuntimeWarning: invalid value encountered in log\n",
      "  y = x*np.log(x)\n"
     ]
    },
    {
     "data": {
      "text/plain": [
       "[<matplotlib.lines.Line2D at 0x1968700eb40>]"
      ]
     },
     "execution_count": 70,
     "metadata": {},
     "output_type": "execute_result"
    },
    {
     "data": {
      "image/png": "[encoded data removed]",
      "text/plain": [
       "<Figure size 640x480 with 1 Axes>"
      ]
     },
     "metadata": {},
     "output_type": "display_data"
    }
   ],
   "source": [
    "x = np.linspace(-10,10,100)\n",
    "y = x*np.log(x)\n",
    "plt.plot(x,y)"
   ]
  },
  {
   "cell_type": "code",
   "execution_count": 87,
   "id": "4533feb1-66c7-4831-bfd0-32860f0a91dc",
   "metadata": {},
   "outputs": [],
   "source": [
    "# plotting a scatterplot\n",
    "x = np.array([10,20,30,40,50,60,70])\n",
    "y = np.array([20,40,60,80,100,110,130])"
   ]
  },
  {
   "cell_type": "code",
   "execution_count": 88,
   "id": "4009963b-4652-440a-b91d-8e4f7d496046",
   "metadata": {},
   "outputs": [
    {
     "data": {
      "text/plain": [
       "<matplotlib.collections.PathCollection at 0x19689b755b0>"
      ]
     },
     "execution_count": 88,
     "metadata": {},
     "output_type": "execute_result"
    },
    {
     "data": {
      "image/png": "[encoded data removed]",
      "text/plain": [
       "<Figure size 640x480 with 1 Axes>"
      ]
     },
     "metadata": {},
     "output_type": "display_data"
    }
   ],
   "source": [
    "plt.scatter(x,y)"
   ]
  }
 ],
 "metadata": {
  "kernelspec": {
   "display_name": "Python 3 (ipykernel)",
   "language": "python",
   "name": "python3"
  },
  "language_info": {
   "codemirror_mode": {
    "name": "ipython",
    "version": 3
   },
   "file_extension": ".py",
   "mimetype": "text/x-python",
   "name": "python",
   "nbconvert_exporter": "python",
   "pygments_lexer": "ipython3",
   "version": "3.12.0"
  }
 },
 "nbformat": 4,
 "nbformat_minor": 5
}
