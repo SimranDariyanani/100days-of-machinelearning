{
 "cells": [
  {
   "cell_type": "code",
   "execution_count": 1,
   "id": "fbec7dab-9afe-4a95-bc8e-fbb0916868a9",
   "metadata": {},
   "outputs": [],
   "source": [
    "import numpy as np"
   ]
  },
  {
   "cell_type": "code",
   "execution_count": 2,
   "id": "a709ba71-d897-4626-bb8f-7408699bdbf4",
   "metadata": {},
   "outputs": [
    {
     "data": {
      "text/plain": [
       "array([56, 86, 99, 18,  8, 70, 26, 85, 37,  5, 70, 36, 60, 34, 88])"
      ]
     },
     "execution_count": 2,
     "metadata": {},
     "output_type": "execute_result"
    }
   ],
   "source": [
    "a = np.random.randint(1,100,15)\n",
    "a"
   ]
  },
  {
   "cell_type": "code",
   "execution_count": 3,
   "id": "83edb33b-bdc7-4b2a-ad2a-06af714351e8",
   "metadata": {},
   "outputs": [
    {
     "data": {
      "text/plain": [
       "array([[87, 28, 42, 95],\n",
       "       [73, 39, 18, 51],\n",
       "       [73, 51, 66, 86],\n",
       "       [22, 27, 71, 76],\n",
       "       [ 6, 34, 47, 69],\n",
       "       [ 3, 40, 52,  6]])"
      ]
     },
     "execution_count": 3,
     "metadata": {},
     "output_type": "execute_result"
    }
   ],
   "source": [
    "b = np.random.randint(1,100,24).reshape(6,4)\n",
    "b"
   ]
  },
  {
   "cell_type": "code",
   "execution_count": 4,
   "id": "b321bdc3-bd16-46ed-adbe-15e78e4c3cfe",
   "metadata": {},
   "outputs": [
    {
     "data": {
      "text/plain": [
       "array([ 5,  8, 18, 26, 34, 36, 37, 56, 60, 70, 70, 85, 86, 88, 99])"
      ]
     },
     "execution_count": 4,
     "metadata": {},
     "output_type": "execute_result"
    }
   ],
   "source": [
    "np.sort(a)"
   ]
  },
  {
   "cell_type": "code",
   "execution_count": 5,
   "id": "c9ce5f2c-4d20-4988-adcb-f77aca0a2abf",
   "metadata": {},
   "outputs": [
    {
     "data": {
      "text/plain": [
       "array([[28, 42, 87, 95],\n",
       "       [18, 39, 51, 73],\n",
       "       [51, 66, 73, 86],\n",
       "       [22, 27, 71, 76],\n",
       "       [ 6, 34, 47, 69],\n",
       "       [ 3,  6, 40, 52]])"
      ]
     },
     "execution_count": 5,
     "metadata": {},
     "output_type": "execute_result"
    }
   ],
   "source": [
    "np.sort(b)"
   ]
  },
  {
   "cell_type": "code",
   "execution_count": 6,
   "id": "7e06fac4-ac23-4cff-8609-88889ac6cc5b",
   "metadata": {},
   "outputs": [
    {
     "data": {
      "text/plain": [
       "array([99, 88, 86, 85, 70, 70, 60, 56, 37, 36, 34, 26, 18,  8,  5])"
      ]
     },
     "execution_count": 6,
     "metadata": {},
     "output_type": "execute_result"
    }
   ],
   "source": [
    "np.sort(a)[::-1]"
   ]
  },
  {
   "cell_type": "code",
   "execution_count": 7,
   "id": "2573be5c-d05c-4a67-a5a7-c907a361307a",
   "metadata": {},
   "outputs": [
    {
     "data": {
      "text/plain": [
       "array([ 56,  86,  99,  18,   8,  70,  26,  85,  37,   5,  70,  36,  60,\n",
       "        34,  88, 200])"
      ]
     },
     "execution_count": 7,
     "metadata": {},
     "output_type": "execute_result"
    }
   ],
   "source": [
    "np.append(a,200)"
   ]
  },
  {
   "cell_type": "code",
   "execution_count": 8,
   "id": "dc784969-2368-43dc-930d-ad87b1b45d48",
   "metadata": {},
   "outputs": [
    {
     "data": {
      "text/plain": [
       "array([[87, 28, 42, 95],\n",
       "       [73, 39, 18, 51],\n",
       "       [73, 51, 66, 86],\n",
       "       [22, 27, 71, 76],\n",
       "       [ 6, 34, 47, 69],\n",
       "       [ 3, 40, 52,  6]])"
      ]
     },
     "execution_count": 8,
     "metadata": {},
     "output_type": "execute_result"
    }
   ],
   "source": [
    "b"
   ]
  },
  {
   "cell_type": "code",
   "execution_count": 9,
   "id": "99578eb1-b3e2-4310-b1a8-c384bb16dda7",
   "metadata": {},
   "outputs": [
    {
     "data": {
      "text/plain": [
       "array([[87.        , 28.        , 42.        , 95.        ,  0.15817145],\n",
       "       [73.        , 39.        , 18.        , 51.        ,  0.25392034],\n",
       "       [73.        , 51.        , 66.        , 86.        ,  0.13606263],\n",
       "       [22.        , 27.        , 71.        , 76.        ,  0.74052444],\n",
       "       [ 6.        , 34.        , 47.        , 69.        ,  0.80800916],\n",
       "       [ 3.        , 40.        , 52.        ,  6.        ,  0.87486213]])"
      ]
     },
     "execution_count": 9,
     "metadata": {},
     "output_type": "execute_result"
    }
   ],
   "source": [
    "np.append(b,np.random.random((b.shape[0],1)),axis=1)"
   ]
  },
  {
   "cell_type": "code",
   "execution_count": 10,
   "id": "8bbccb1f-4f5e-4212-9a96-98d17b66a223",
   "metadata": {},
   "outputs": [],
   "source": [
    "c = np.arange(6).reshape(2,3)\n",
    "d = np.arange(6,12).reshape(2,3)"
   ]
  },
  {
   "cell_type": "code",
   "execution_count": 11,
   "id": "8cb7d2a1-762b-4a2b-9848-d3dd38264a43",
   "metadata": {},
   "outputs": [
    {
     "data": {
      "text/plain": [
       "array([[ 0,  1,  2],\n",
       "       [ 3,  4,  5],\n",
       "       [ 6,  7,  8],\n",
       "       [ 9, 10, 11]])"
      ]
     },
     "execution_count": 11,
     "metadata": {},
     "output_type": "execute_result"
    }
   ],
   "source": [
    "np.concatenate((c,d),axis=0)"
   ]
  },
  {
   "cell_type": "code",
   "execution_count": 12,
   "id": "ab0a75c0-cf74-4818-94c0-84323337d2cb",
   "metadata": {},
   "outputs": [
    {
     "data": {
      "text/plain": [
       "array([ 1,  2,  3,  4,  5,  6,  7,  8,  9, 88])"
      ]
     },
     "execution_count": 12,
     "metadata": {},
     "output_type": "execute_result"
    }
   ],
   "source": [
    "e = np.array([1,1,2,2,3,3,4,5,5,5,6,7,8,88,8,8,9])\n",
    "np.unique(e)"
   ]
  },
  {
   "cell_type": "code",
   "execution_count": 13,
   "id": "4e8188d0-3ca7-4dc0-92ec-a8e8fd1d3a8a",
   "metadata": {},
   "outputs": [
    {
     "data": {
      "text/plain": [
       "(15,)"
      ]
     },
     "execution_count": 13,
     "metadata": {},
     "output_type": "execute_result"
    }
   ],
   "source": [
    "a.shape"
   ]
  },
  {
   "cell_type": "code",
   "execution_count": 14,
   "id": "7e58f8d0-9915-4801-87b7-dd48f9f7d3a9",
   "metadata": {},
   "outputs": [
    {
     "data": {
      "text/plain": [
       "array([56, 86, 99, 18,  8, 70, 26, 85, 37,  5, 70, 36, 60, 34, 88])"
      ]
     },
     "execution_count": 14,
     "metadata": {},
     "output_type": "execute_result"
    }
   ],
   "source": [
    "a"
   ]
  },
  {
   "cell_type": "code",
   "execution_count": 22,
   "id": "190a0051-8f75-4b12-be15-358a94b0f588",
   "metadata": {},
   "outputs": [
    {
     "name": "stdout",
     "output_type": "stream",
     "text": [
      "[[56 86 99 18  8 70 26 85 37  5 70 36 60 34 88]]\n"
     ]
    }
   ],
   "source": [
    "print(np.expand_dims(a,axis=0))"
   ]
  },
  {
   "cell_type": "code",
   "execution_count": 18,
   "id": "d26c14c5-2e58-4619-92ad-d25c75f84f96",
   "metadata": {},
   "outputs": [
    {
     "data": {
      "text/plain": [
       "array([56, 86, 99, 18,  8, 70, 26, 85, 37,  5, 70, 36, 60, 34, 88])"
      ]
     },
     "execution_count": 18,
     "metadata": {},
     "output_type": "execute_result"
    }
   ],
   "source": [
    "a"
   ]
  },
  {
   "cell_type": "code",
   "execution_count": 21,
   "id": "5b23abc9-5f7f-4512-852c-d9b28683b834",
   "metadata": {},
   "outputs": [
    {
     "name": "stdout",
     "output_type": "stream",
     "text": [
      "[[56]\n",
      " [86]\n",
      " [99]\n",
      " [18]\n",
      " [ 8]\n",
      " [70]\n",
      " [26]\n",
      " [85]\n",
      " [37]\n",
      " [ 5]\n",
      " [70]\n",
      " [36]\n",
      " [60]\n",
      " [34]\n",
      " [88]]\n"
     ]
    }
   ],
   "source": [
    "print(np.expand_dims(a,axis=1))"
   ]
  },
  {
   "cell_type": "code",
   "execution_count": 23,
   "id": "0d03c731-2454-49fe-b8fe-0467e41e13e2",
   "metadata": {},
   "outputs": [
    {
     "data": {
      "text/plain": [
       "array([56, 86, 99, 18,  8, 70, 26, 85, 37,  5, 70, 36, 60, 34, 88])"
      ]
     },
     "execution_count": 23,
     "metadata": {},
     "output_type": "execute_result"
    }
   ],
   "source": [
    "a"
   ]
  },
  {
   "cell_type": "code",
   "execution_count": 24,
   "id": "803514fa-4160-463c-8678-217179cd7d21",
   "metadata": {},
   "outputs": [
    {
     "data": {
      "text/plain": [
       "array([56, 86, 99, 18,  8, 70, 26, 85, 37,  5, 70, 36, 60, 34, 88])"
      ]
     },
     "execution_count": 24,
     "metadata": {},
     "output_type": "execute_result"
    }
   ],
   "source": [
    "a"
   ]
  },
  {
   "cell_type": "code",
   "execution_count": 25,
   "id": "0d609c5e-b014-47af-8374-390d382af06b",
   "metadata": {},
   "outputs": [
    {
     "data": {
      "text/plain": [
       "(array([ 0,  1,  2,  5,  7, 10, 12, 14], dtype=int64),)"
      ]
     },
     "execution_count": 25,
     "metadata": {},
     "output_type": "execute_result"
    }
   ],
   "source": [
    "np.where(a>50)"
   ]
  },
  {
   "cell_type": "code",
   "execution_count": 26,
   "id": "6011af2c-4387-4bdd-bb8b-8536a6b236fa",
   "metadata": {},
   "outputs": [
    {
     "data": {
      "text/plain": [
       "array([25, 25, 25, 18,  8, 25, 26, 25, 37,  5, 25, 36, 25, 34, 25])"
      ]
     },
     "execution_count": 26,
     "metadata": {},
     "output_type": "execute_result"
    }
   ],
   "source": [
    "np.where(a>50,25,a)"
   ]
  },
  {
   "cell_type": "code",
   "execution_count": 27,
   "id": "0b969579-5c7e-4bb7-b4ae-e361f4ac4e5c",
   "metadata": {},
   "outputs": [
    {
     "data": {
      "text/plain": [
       "array([56, 86, 99, 18,  8, 70, 26, 85, 37,  5, 70, 36, 60, 34, 88])"
      ]
     },
     "execution_count": 27,
     "metadata": {},
     "output_type": "execute_result"
    }
   ],
   "source": [
    "a"
   ]
  },
  {
   "cell_type": "code",
   "execution_count": 28,
   "id": "c5e13bde-ef02-40b7-ba2c-95246dc2d07c",
   "metadata": {},
   "outputs": [
    {
     "data": {
      "text/plain": [
       "2"
      ]
     },
     "execution_count": 28,
     "metadata": {},
     "output_type": "execute_result"
    }
   ],
   "source": [
    "np.argmax(a)"
   ]
  },
  {
   "cell_type": "code",
   "execution_count": 29,
   "id": "d2338ff9-b3db-4063-977d-195c72d0ac34",
   "metadata": {},
   "outputs": [
    {
     "data": {
      "text/plain": [
       "array([[87, 28, 42, 95],\n",
       "       [73, 39, 18, 51],\n",
       "       [73, 51, 66, 86],\n",
       "       [22, 27, 71, 76],\n",
       "       [ 6, 34, 47, 69],\n",
       "       [ 3, 40, 52,  6]])"
      ]
     },
     "execution_count": 29,
     "metadata": {},
     "output_type": "execute_result"
    }
   ],
   "source": [
    "b"
   ]
  },
  {
   "cell_type": "code",
   "execution_count": 31,
   "id": "6d5a55e5-7c11-4d44-a977-8393ed2e64c3",
   "metadata": {},
   "outputs": [
    {
     "data": {
      "text/plain": [
       "array([0, 2, 3, 0], dtype=int64)"
      ]
     },
     "execution_count": 31,
     "metadata": {},
     "output_type": "execute_result"
    }
   ],
   "source": [
    "np.argmax(b,axis=0)"
   ]
  },
  {
   "cell_type": "code",
   "execution_count": 32,
   "id": "1e9bddc5-b675-41e9-9c43-9d6ad768bf47",
   "metadata": {},
   "outputs": [
    {
     "data": {
      "text/plain": [
       "array([3, 0, 3, 3, 3, 2], dtype=int64)"
      ]
     },
     "execution_count": 32,
     "metadata": {},
     "output_type": "execute_result"
    }
   ],
   "source": [
    "np.argmax(b,axis=1)"
   ]
  },
  {
   "cell_type": "code",
   "execution_count": 33,
   "id": "95516525-467e-4f57-a00f-7f5b7b81b2f8",
   "metadata": {},
   "outputs": [
    {
     "data": {
      "text/plain": [
       "9"
      ]
     },
     "execution_count": 33,
     "metadata": {},
     "output_type": "execute_result"
    }
   ],
   "source": [
    "np.argmin(a)"
   ]
  },
  {
   "cell_type": "code",
   "execution_count": 34,
   "id": "dac73da8-c382-4043-b93e-13e888b431bb",
   "metadata": {},
   "outputs": [
    {
     "data": {
      "text/plain": [
       "array([56, 86, 99, 18,  8, 70, 26, 85, 37,  5, 70, 36, 60, 34, 88])"
      ]
     },
     "execution_count": 34,
     "metadata": {},
     "output_type": "execute_result"
    }
   ],
   "source": [
    "a"
   ]
  },
  {
   "cell_type": "code",
   "execution_count": 35,
   "id": "7c38f882-9ab2-4c3d-ae46-9754ed2981e0",
   "metadata": {},
   "outputs": [
    {
     "data": {
      "text/plain": [
       "array([ 56, 142, 241, 259, 267, 337, 363, 448, 485, 490, 560, 596, 656,\n",
       "       690, 778])"
      ]
     },
     "execution_count": 35,
     "metadata": {},
     "output_type": "execute_result"
    }
   ],
   "source": [
    "np.cumsum(a)"
   ]
  },
  {
   "cell_type": "code",
   "execution_count": 38,
   "id": "fed1f944-3fab-43bb-920a-47b8080e6572",
   "metadata": {},
   "outputs": [
    {
     "data": {
      "text/plain": [
       "array([[ 87, 115, 157, 252],\n",
       "       [ 73, 112, 130, 181],\n",
       "       [ 73, 124, 190, 276],\n",
       "       [ 22,  49, 120, 196],\n",
       "       [  6,  40,  87, 156],\n",
       "       [  3,  43,  95, 101]])"
      ]
     },
     "execution_count": 38,
     "metadata": {},
     "output_type": "execute_result"
    }
   ],
   "source": [
    "np.cumsum(b,axis=1)"
   ]
  },
  {
   "cell_type": "code",
   "execution_count": 39,
   "id": "9a231fb3-6f81-4a23-8a68-9c7eac401c59",
   "metadata": {},
   "outputs": [
    {
     "data": {
      "text/plain": [
       "56.0"
      ]
     },
     "execution_count": 39,
     "metadata": {},
     "output_type": "execute_result"
    }
   ],
   "source": [
    "np.percentile(a,50)"
   ]
  },
  {
   "cell_type": "code",
   "execution_count": 43,
   "id": "1f3d95d5-94e9-4dfe-b329-838bb311619f",
   "metadata": {},
   "outputs": [
    {
     "data": {
      "text/plain": [
       "(array([3, 4, 1, 3, 4], dtype=int64), array([  0,  20,  40,  60,  80, 100]))"
      ]
     },
     "execution_count": 43,
     "metadata": {},
     "output_type": "execute_result"
    }
   ],
   "source": [
    "np.histogram(a,bins=[0,20,40,60,80,100])"
   ]
  },
  {
   "cell_type": "code",
   "execution_count": 44,
   "id": "75a1ae77-c591-4228-8d66-019d5deb0daa",
   "metadata": {},
   "outputs": [
    {
     "data": {
      "text/plain": [
       "array([[1.        , 0.25344572],\n",
       "       [0.25344572, 1.        ]])"
      ]
     },
     "execution_count": 44,
     "metadata": {},
     "output_type": "execute_result"
    }
   ],
   "source": [
    "salary = np.array([20000,40000,25000,35000,60000])\n",
    "experience = np.array([1,3,2,4,2])\n",
    "np.corrcoef(salary,experience)"
   ]
  },
  {
   "cell_type": "code",
   "execution_count": 45,
   "id": "152f58c9-748b-410e-9282-2ece3a7a0aff",
   "metadata": {},
   "outputs": [
    {
     "data": {
      "text/plain": [
       "array([56, 86, 99, 18,  8, 70, 26, 85, 37,  5, 70, 36, 60, 34, 88])"
      ]
     },
     "execution_count": 45,
     "metadata": {},
     "output_type": "execute_result"
    }
   ],
   "source": [
    "a"
   ]
  },
  {
   "cell_type": "code",
   "execution_count": 46,
   "id": "ce2d4ddd-0142-49f1-8cdc-70c661dd4e59",
   "metadata": {},
   "outputs": [
    {
     "data": {
      "text/plain": [
       "array([False, False, False, False, False,  True, False, False, False,\n",
       "       False,  True, False,  True, False, False])"
      ]
     },
     "execution_count": 46,
     "metadata": {},
     "output_type": "execute_result"
    }
   ],
   "source": [
    "items = [10,20,30,40,50,60,70]\n",
    "np.isin(a,items)"
   ]
  },
  {
   "cell_type": "code",
   "execution_count": 47,
   "id": "1512931a-5b1e-4097-9175-a3f2184808e2",
   "metadata": {},
   "outputs": [
    {
     "data": {
      "text/plain": [
       "array([56, 86, 99, 18,  8, 70, 26, 85, 37,  5, 70, 36, 60, 34, 88])"
      ]
     },
     "execution_count": 47,
     "metadata": {},
     "output_type": "execute_result"
    }
   ],
   "source": [
    "a"
   ]
  },
  {
   "cell_type": "code",
   "execution_count": 48,
   "id": "75e3d153-3d1d-440b-9b73-b5fc7fe2d979",
   "metadata": {},
   "outputs": [
    {
     "data": {
      "text/plain": [
       "array([88, 34, 60, 36, 70,  5, 37, 85, 26, 70,  8, 18, 99, 86, 56])"
      ]
     },
     "execution_count": 48,
     "metadata": {},
     "output_type": "execute_result"
    }
   ],
   "source": [
    "np.flip(a)"
   ]
  },
  {
   "cell_type": "code",
   "execution_count": 52,
   "id": "73c26087-8b7b-4c6e-b68a-b44d1a57b8d9",
   "metadata": {},
   "outputs": [
    {
     "data": {
      "text/plain": [
       "array([[95, 42, 28, 87],\n",
       "       [51, 18, 39, 73],\n",
       "       [86, 66, 51, 73],\n",
       "       [76, 71, 27, 22],\n",
       "       [69, 47, 34,  6],\n",
       "       [ 6, 52, 40,  3]])"
      ]
     },
     "execution_count": 52,
     "metadata": {},
     "output_type": "execute_result"
    }
   ],
   "source": [
    "np.flip(b,axis=1)"
   ]
  },
  {
   "cell_type": "code",
   "execution_count": 50,
   "id": "30c7b9e1-f855-4fdc-9670-92c3fbfdd1b1",
   "metadata": {},
   "outputs": [
    {
     "data": {
      "text/plain": [
       "array([[87, 28, 42, 95],\n",
       "       [73, 39, 18, 51],\n",
       "       [73, 51, 66, 86],\n",
       "       [22, 27, 71, 76],\n",
       "       [ 6, 34, 47, 69],\n",
       "       [ 3, 40, 52,  6]])"
      ]
     },
     "execution_count": 50,
     "metadata": {},
     "output_type": "execute_result"
    }
   ],
   "source": [
    "b"
   ]
  },
  {
   "cell_type": "code",
   "execution_count": 53,
   "id": "fec12d41-fe90-4ee4-b5de-fe549354531f",
   "metadata": {},
   "outputs": [
    {
     "data": {
      "text/plain": [
       "array([56, 86, 99, 18,  8, 70, 26, 85, 37,  5, 70, 36, 60, 34, 88])"
      ]
     },
     "execution_count": 53,
     "metadata": {},
     "output_type": "execute_result"
    }
   ],
   "source": [
    "a"
   ]
  },
  {
   "cell_type": "code",
   "execution_count": 54,
   "id": "3b7e0c69-a459-417b-9c40-edb8e5486568",
   "metadata": {},
   "outputs": [],
   "source": [
    "np.put(a,[0,1],[110,530])"
   ]
  },
  {
   "cell_type": "code",
   "execution_count": 55,
   "id": "55619f61-a6ec-4758-bee6-75d18f31877d",
   "metadata": {},
   "outputs": [
    {
     "data": {
      "text/plain": [
       "array([110, 530,  99,  18,   8,  70,  26,  85,  37,   5,  70,  36,  60,\n",
       "        34,  88])"
      ]
     },
     "execution_count": 55,
     "metadata": {},
     "output_type": "execute_result"
    }
   ],
   "source": [
    "a"
   ]
  },
  {
   "cell_type": "code",
   "execution_count": 56,
   "id": "9837405e-9a07-4f2b-b872-f5ee7effdfb7",
   "metadata": {},
   "outputs": [
    {
     "data": {
      "text/plain": [
       "array([99, 18,  8, 70, 26, 85, 37,  5, 70, 36, 60, 34, 88])"
      ]
     },
     "execution_count": 56,
     "metadata": {},
     "output_type": "execute_result"
    }
   ],
   "source": [
    "np.delete(a,[0,1])"
   ]
  },
  {
   "cell_type": "code",
   "execution_count": 57,
   "id": "cf0fc164-49b2-4445-9cc8-e5e7c0fe95d3",
   "metadata": {},
   "outputs": [],
   "source": [
    "m = np.array([1,2,3,4,5])\n",
    "n = np.array([3,4,5,6,7])"
   ]
  },
  {
   "cell_type": "code",
   "execution_count": 58,
   "id": "e46297f0-0577-4afe-8d14-801503c44346",
   "metadata": {},
   "outputs": [
    {
     "data": {
      "text/plain": [
       "array([1, 2, 3, 4, 5, 6, 7])"
      ]
     },
     "execution_count": 58,
     "metadata": {},
     "output_type": "execute_result"
    }
   ],
   "source": [
    "np.union1d(m,n)"
   ]
  },
  {
   "cell_type": "code",
   "execution_count": 59,
   "id": "20afd18e-d174-418c-9769-118edcb414bf",
   "metadata": {},
   "outputs": [
    {
     "data": {
      "text/plain": [
       "array([3, 4, 5])"
      ]
     },
     "execution_count": 59,
     "metadata": {},
     "output_type": "execute_result"
    }
   ],
   "source": [
    "np.intersect1d(m,n)"
   ]
  },
  {
   "cell_type": "code",
   "execution_count": 60,
   "id": "9a92b4ca-0010-4b4c-9bc5-bcfad73f8dd7",
   "metadata": {},
   "outputs": [
    {
     "data": {
      "text/plain": [
       "array([1, 2])"
      ]
     },
     "execution_count": 60,
     "metadata": {},
     "output_type": "execute_result"
    }
   ],
   "source": [
    "np.setdiff1d(m,n)"
   ]
  },
  {
   "cell_type": "code",
   "execution_count": 62,
   "id": "dfb0c5eb-ea6f-4390-96bb-16760e57443a",
   "metadata": {},
   "outputs": [
    {
     "data": {
      "text/plain": [
       "array([1, 2, 6, 7])"
      ]
     },
     "execution_count": 62,
     "metadata": {},
     "output_type": "execute_result"
    }
   ],
   "source": [
    "np.setxor1d(m,n)"
   ]
  },
  {
   "cell_type": "code",
   "execution_count": 64,
   "id": "98d811b8-0787-486f-86d6-e4432e6ce45b",
   "metadata": {},
   "outputs": [
    {
     "data": {
      "text/plain": [
       "array([False, False, False, False,  True])"
      ]
     },
     "execution_count": 64,
     "metadata": {},
     "output_type": "execute_result"
    }
   ],
   "source": [
    "np.in1d(m,5)"
   ]
  },
  {
   "cell_type": "code",
   "execution_count": 65,
   "id": "7e496019-2a1f-4793-b89b-ddb0568c5ce5",
   "metadata": {},
   "outputs": [
    {
     "data": {
      "text/plain": [
       "array([75, 75, 75, 25, 25, 70, 26, 75, 37, 25, 70, 36, 60, 34, 75])"
      ]
     },
     "execution_count": 65,
     "metadata": {},
     "output_type": "execute_result"
    }
   ],
   "source": [
    "np.clip(a,a_min=25,a_max=75)"
   ]
  }
 ],
 "metadata": {
  "kernelspec": {
   "display_name": "Python 3 (ipykernel)",
   "language": "python",
   "name": "python3"
  },
  "language_info": {
   "codemirror_mode": {
    "name": "ipython",
    "version": 3
   },
   "file_extension": ".py",
   "mimetype": "text/x-python",
   "name": "python",
   "nbconvert_exporter": "python",
   "pygments_lexer": "ipython3",
   "version": "3.12.0"
  }
 },
 "nbformat": 4,
 "nbformat_minor": 5
}
