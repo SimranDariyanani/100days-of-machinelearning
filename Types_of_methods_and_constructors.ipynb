{
  "nbformat": 4,
  "nbformat_minor": 0,
  "metadata": {
    "colab": {
      "provenance": [],
      "gpuType": "T4"
    },
    "kernelspec": {
      "name": "python3",
      "display_name": "Python 3"
    },
    "language_info": {
      "name": "python"
    },
    "accelerator": "GPU"
  },
  "cells": [
    {
      "cell_type": "markdown",
      "source": [
        "**Instance method**"
      ],
      "metadata": {
        "id": "bWQYmx_DPTbs"
      }
    },
    {
      "cell_type": "code",
      "execution_count": null,
      "metadata": {
        "colab": {
          "base_uri": "https://localhost:8080/"
        },
        "id": "axyDlnP1PHBt",
        "outputId": "145f53c3-a481-4c44-b809-6c4dba1ebec0"
      },
      "outputs": [
        {
          "output_type": "execute_result",
          "data": {
            "text/plain": [
              "13"
            ]
          },
          "metadata": {},
          "execution_count": 1
        }
      ],
      "source": [
        "class calculate():\n",
        "  def __init__(self,a,b):\n",
        "    self.a = a\n",
        "    self.b = b\n",
        "  def add(self):\n",
        "    return self.a + self.b\n",
        "c1 = calculate(10,3)\n",
        "c1.add()"
      ]
    },
    {
      "cell_type": "markdown",
      "source": [
        "**Class Method**"
      ],
      "metadata": {
        "id": "B6rz4KtCQOU_"
      }
    },
    {
      "cell_type": "code",
      "source": [
        "class Student:\n",
        "  total_students = 0\n",
        "\n",
        "  def __init__(self,name,age):\n",
        "    self.name = name\n",
        "    self.age = age\n",
        "    Student.total_students += 1\n",
        "\n",
        "  @classmethod\n",
        "  def get_total_students(cls):\n",
        "    return cls.total_students\n",
        "\n",
        "s1 = Student('A',20)\n",
        "s2 = Student('B',22)\n",
        "\n",
        "total = Student.get_total_students()\n",
        "print(\"total students:\",total)"
      ],
      "metadata": {
        "colab": {
          "base_uri": "https://localhost:8080/"
        },
        "id": "kVkxitsPQLcv",
        "outputId": "de2e31ae-dd89-4e89-8be1-dcbc7e520018"
      },
      "execution_count": null,
      "outputs": [
        {
          "output_type": "stream",
          "name": "stdout",
          "text": [
            "total students: 2\n"
          ]
        }
      ]
    },
    {
      "cell_type": "markdown",
      "source": [
        "**Static Method**"
      ],
      "metadata": {
        "id": "AR4WcE4tSkMF"
      }
    },
    {
      "cell_type": "code",
      "source": [
        "class Calculator:\n",
        "  @staticmethod\n",
        "  def add(x,y):\n",
        "    return x+y\n",
        "\n",
        "  @staticmethod\n",
        "  def multiply(x,y):\n",
        "    return x*y\n",
        "\n",
        "result = Calculator.add(3,5)\n",
        "mul = Calculator.multiply(6,4)\n",
        "print(result)\n",
        "print(mul)"
      ],
      "metadata": {
        "id": "R6XI79wPQ8cr",
        "colab": {
          "base_uri": "https://localhost:8080/"
        },
        "outputId": "186511c8-9782-497a-cf98-195bd3d26874"
      },
      "execution_count": 2,
      "outputs": [
        {
          "output_type": "stream",
          "name": "stdout",
          "text": [
            "8\n",
            "24\n"
          ]
        }
      ]
    },
    {
      "cell_type": "code",
      "source": [
        "print(Calculator.add(9,19))"
      ],
      "metadata": {
        "colab": {
          "base_uri": "https://localhost:8080/"
        },
        "id": "HZMclgwxpT6H",
        "outputId": "12346ec0-a8de-412c-abf7-ec3b4f0d7d94"
      },
      "execution_count": 3,
      "outputs": [
        {
          "output_type": "stream",
          "name": "stdout",
          "text": [
            "28\n"
          ]
        }
      ]
    }
  ]
}