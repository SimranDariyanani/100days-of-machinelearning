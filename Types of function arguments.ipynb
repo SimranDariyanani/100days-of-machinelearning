{
 "cells": [
  {
   "cell_type": "markdown",
   "id": "3c130d00-74ff-4049-948c-733c05083bd8",
   "metadata": {},
   "source": [
    "### Required Arguments"
   ]
  },
  {
   "cell_type": "code",
   "execution_count": 2,
   "id": "b7157877-17ae-46fc-87c0-ee5fc004a8b1",
   "metadata": {},
   "outputs": [],
   "source": [
    "def display(n1,n2):\n",
    "    print(n1,n2)"
   ]
  },
  {
   "cell_type": "code",
   "execution_count": 3,
   "id": "be79693a-6c6a-4a1a-955e-0264616149b7",
   "metadata": {},
   "outputs": [
    {
     "name": "stdout",
     "output_type": "stream",
     "text": [
      "10 15\n"
     ]
    }
   ],
   "source": [
    "display(10,15)"
   ]
  },
  {
   "cell_type": "markdown",
   "id": "b11322b1-b441-4a6f-9794-599c375114fb",
   "metadata": {},
   "source": [
    "### Default Arguments"
   ]
  },
  {
   "cell_type": "code",
   "execution_count": 5,
   "id": "a9e8d36c-bf52-4428-822c-f30148d0be1d",
   "metadata": {},
   "outputs": [],
   "source": [
    "def student(name,age,gender='f'):\n",
    "    print(\"name is:\",name)\n",
    "    print(\"age is:\",age)\n",
    "    print(\"gender is:\",gender)"
   ]
  },
  {
   "cell_type": "code",
   "execution_count": 6,
   "id": "36d9adf9-017a-4e5c-9259-3d31811bab08",
   "metadata": {},
   "outputs": [
    {
     "name": "stdout",
     "output_type": "stream",
     "text": [
      "name is: a\n",
      "age is: 20\n",
      "gender is: M\n"
     ]
    }
   ],
   "source": [
    "student('a',20,'M')"
   ]
  },
  {
   "cell_type": "code",
   "execution_count": 7,
   "id": "9a765ee1-8442-4841-b137-1e9d6ac6b40a",
   "metadata": {},
   "outputs": [
    {
     "name": "stdout",
     "output_type": "stream",
     "text": [
      "name is: b\n",
      "age is: 16\n",
      "gender is: f\n"
     ]
    }
   ],
   "source": [
    "student('b',16)"
   ]
  },
  {
   "cell_type": "markdown",
   "id": "2bedc91d-9ff3-4aed-9909-9fd922302cac",
   "metadata": {},
   "source": [
    "### Keyword Argument"
   ]
  },
  {
   "cell_type": "code",
   "execution_count": 8,
   "id": "5bc47742-44c8-4b3c-ac2d-0785a262fe8d",
   "metadata": {},
   "outputs": [],
   "source": [
    "def student(name,age,course):\n",
    "    print(\"name is:\",name)\n",
    "    print(\"age is:\",age)\n",
    "    print(\"course is:\",course)"
   ]
  },
  {
   "cell_type": "code",
   "execution_count": 9,
   "id": "51b1bba4-c1da-496f-b5e3-b8c7219db58a",
   "metadata": {},
   "outputs": [
    {
     "name": "stdout",
     "output_type": "stream",
     "text": [
      "name is: c\n",
      "age is: 22\n",
      "course is: mca\n"
     ]
    }
   ],
   "source": [
    "student(course='mca',name='c',age=22)"
   ]
  },
  {
   "cell_type": "markdown",
   "id": "15902ce3-b85d-4c77-a630-22855ece9da0",
   "metadata": {},
   "source": [
    "### variable length Arguments"
   ]
  },
  {
   "cell_type": "markdown",
   "id": "ab0f11ba-a28e-4894-9c87-3c8ffa442b72",
   "metadata": {},
   "source": [
    "non-keyword arguments"
   ]
  },
  {
   "cell_type": "code",
   "execution_count": 17,
   "id": "945c6b13-4714-4f4e-9fe9-6a50d5cee544",
   "metadata": {},
   "outputs": [],
   "source": [
    "def welcome(*nm):\n",
    "    for i in nm:\n",
    "         print(i,end=',')"
   ]
  },
  {
   "cell_type": "code",
   "execution_count": 18,
   "id": "8d13c4f2-9075-489b-ae43-ec8fb0823dfd",
   "metadata": {},
   "outputs": [
    {
     "name": "stdout",
     "output_type": "stream",
     "text": [
      "sachin,"
     ]
    }
   ],
   "source": [
    "welcome('sachin')"
   ]
  },
  {
   "cell_type": "code",
   "execution_count": 19,
   "id": "2efc9d1a-38a4-47fd-a497-16c32edeec30",
   "metadata": {},
   "outputs": [
    {
     "name": "stdout",
     "output_type": "stream",
     "text": [
      "sachin,dhoni,sehwag,"
     ]
    }
   ],
   "source": [
    "welcome('sachin','dhoni','sehwag')"
   ]
  },
  {
   "cell_type": "markdown",
   "id": "bc11274f-b156-4574-8a9f-86edfce74f19",
   "metadata": {},
   "source": [
    "keyword arguments"
   ]
  },
  {
   "cell_type": "code",
   "execution_count": 20,
   "id": "0d59d927-f8c5-41a8-a5f8-ee4f50512f0c",
   "metadata": {},
   "outputs": [],
   "source": [
    "def myfun(**kwargs):\n",
    "    for key,value in kwargs.items():\n",
    "        print(\"%s == %s\" %(key,value))"
   ]
  },
  {
   "cell_type": "code",
   "execution_count": 22,
   "id": "f927d4ee-8518-4fad-a033-5383141c4530",
   "metadata": {},
   "outputs": [
    {
     "name": "stdout",
     "output_type": "stream",
     "text": [
      "first == g\n",
      "mid == f\n",
      "last == g\n"
     ]
    }
   ],
   "source": [
    "myfun(first=\"g\",mid=\"f\",last=\"g\")"
   ]
  },
  {
   "cell_type": "markdown",
   "id": "896fd384-d6db-42ce-bd3f-68257e36af40",
   "metadata": {},
   "source": [
    "### lambda function"
   ]
  },
  {
   "cell_type": "code",
   "execution_count": 23,
   "id": "c563b569-55b4-4ca1-84dd-0bfc7465e8d4",
   "metadata": {},
   "outputs": [],
   "source": [
    "x = lambda a : a+10"
   ]
  },
  {
   "cell_type": "code",
   "execution_count": 24,
   "id": "6dabe7b9-173c-4b40-8982-d1f705d6a885",
   "metadata": {},
   "outputs": [
    {
     "name": "stdout",
     "output_type": "stream",
     "text": [
      "15\n"
     ]
    }
   ],
   "source": [
    "print(x(5))"
   ]
  },
  {
   "cell_type": "markdown",
   "id": "442b1983-0299-440c-9a98-e12ad873e759",
   "metadata": {},
   "source": [
    "filter()"
   ]
  },
  {
   "cell_type": "code",
   "execution_count": 25,
   "id": "0bc2dd83-0906-4f25-ae91-e1b7f4e9d3a5",
   "metadata": {},
   "outputs": [
    {
     "data": {
      "text/plain": [
       "[2, 4, 6, 8, 10]"
      ]
     },
     "execution_count": 25,
     "metadata": {},
     "output_type": "execute_result"
    }
   ],
   "source": [
    "nums = [1,2,3,4,5,6,7,8,9,10]\n",
    "evens = list(filter(lambda x:x%2==0,nums))\n",
    "evens"
   ]
  },
  {
   "cell_type": "markdown",
   "id": "62c9f302-edba-4648-899d-da5053ef1e2e",
   "metadata": {},
   "source": [
    "map()"
   ]
  },
  {
   "cell_type": "code",
   "execution_count": 27,
   "id": "2f1ceb68-85ec-4d42-8a4b-0572fbdaec4a",
   "metadata": {},
   "outputs": [
    {
     "data": {
      "text/plain": [
       "[1, 4, 9, 16, 25]"
      ]
     },
     "execution_count": 27,
     "metadata": {},
     "output_type": "execute_result"
    }
   ],
   "source": [
    "nums = [1,2,3,4,5]\n",
    "sqr = list(map(lambda x : x*x,nums))\n",
    "sqr"
   ]
  },
  {
   "cell_type": "code",
   "execution_count": 28,
   "id": "e773308f-b473-4205-9db8-51feecda5138",
   "metadata": {},
   "outputs": [
    {
     "data": {
      "text/plain": [
       "['sachin', 'rahul']"
      ]
     },
     "execution_count": 28,
     "metadata": {},
     "output_type": "execute_result"
    }
   ],
   "source": [
    "def chk(v):\n",
    "    return 'a' in v\n",
    "f1 = list(filter(chk,['sachin','dhoni','rahul']))\n",
    "f1"
   ]
  },
  {
   "cell_type": "code",
   "execution_count": 29,
   "id": "c3886e9a-dacf-4d2f-93da-17bcea6acb14",
   "metadata": {},
   "outputs": [
    {
     "data": {
      "text/plain": [
       "[True, False, True]"
      ]
     },
     "execution_count": 29,
     "metadata": {},
     "output_type": "execute_result"
    }
   ],
   "source": [
    "f2 = list(map(chk,['sachin','dhoni','rahul']))\n",
    "f2"
   ]
  },
  {
   "cell_type": "code",
   "execution_count": 30,
   "id": "929d068f-39eb-4aa4-a5a8-c1e154329abe",
   "metadata": {},
   "outputs": [
    {
     "data": {
      "text/plain": [
       "['sachin', 'rahul']"
      ]
     },
     "execution_count": 30,
     "metadata": {},
     "output_type": "execute_result"
    }
   ],
   "source": [
    "m1 = list(filter(lambda x:'a' in x,['sachin','dhoni','rahul']))\n",
    "m1"
   ]
  },
  {
   "cell_type": "code",
   "execution_count": 31,
   "id": "b6a848a1-ce14-4875-a757-0443ea605a9d",
   "metadata": {},
   "outputs": [
    {
     "data": {
      "text/plain": [
       "[True, False, True]"
      ]
     },
     "execution_count": 31,
     "metadata": {},
     "output_type": "execute_result"
    }
   ],
   "source": [
    "m2 = list(map(lambda x:'a' in x,['sachin','dhoni','rahul']))\n",
    "m2"
   ]
  }
 ],
 "metadata": {
  "kernelspec": {
   "display_name": "Python 3 (ipykernel)",
   "language": "python",
   "name": "python3"
  },
  "language_info": {
   "codemirror_mode": {
    "name": "ipython",
    "version": 3
   },
   "file_extension": ".py",
   "mimetype": "text/x-python",
   "name": "python",
   "nbconvert_exporter": "python",
   "pygments_lexer": "ipython3",
   "version": "3.12.0"
  }
 },
 "nbformat": 4,
 "nbformat_minor": 5
}
