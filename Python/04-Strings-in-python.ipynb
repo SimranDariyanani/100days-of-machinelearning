{
 "cells": [
  {
   "cell_type": "markdown",
   "id": "70e22932-e05a-4d12-a21b-61505ec3ec58",
   "metadata": {},
   "source": [
    "# Strings"
   ]
  },
  {
   "cell_type": "markdown",
   "id": "41a67b02-10a2-43a0-be04-46602ba827af",
   "metadata": {},
   "source": [
    "### In python specifically, strings are sequence of unicode characters"
   ]
  },
  {
   "cell_type": "markdown",
   "id": "399fe643-da24-45ea-8657-1e15ecb9ef90",
   "metadata": {},
   "source": [
    "#### Creating Strings"
   ]
  },
  {
   "cell_type": "code",
   "execution_count": 1,
   "id": "9b33385e-f632-42a1-ab03-c20488e70f6f",
   "metadata": {},
   "outputs": [
    {
     "name": "stdout",
     "output_type": "stream",
     "text": [
      "hello\n"
     ]
    }
   ],
   "source": [
    "s = 'hello'\n",
    "s = \"hello\"\n",
    "#Multiline Strings\n",
    "s = '''hello '''\n",
    "s = \"\"\"hello\"\"\"\n",
    "s = str('hello')\n",
    "print(s)"
   ]
  },
  {
   "cell_type": "code",
   "execution_count": 2,
   "id": "49508826-ca21-44e1-bd5d-14a62313361b",
   "metadata": {},
   "outputs": [
    {
     "data": {
      "text/plain": [
       "\"it's raining outside\""
      ]
     },
     "execution_count": 2,
     "metadata": {},
     "output_type": "execute_result"
    }
   ],
   "source": [
    "\"it's raining outside\""
   ]
  },
  {
   "cell_type": "markdown",
   "id": "75fb65db-43e5-4296-90f4-8fd3eba0b68d",
   "metadata": {},
   "source": [
    "#### Accessing substrings from string"
   ]
  },
  {
   "cell_type": "code",
   "execution_count": 3,
   "id": "830ef194-4412-459d-bea2-b8291fceb030",
   "metadata": {},
   "outputs": [],
   "source": [
    "s = 'hello world'"
   ]
  },
  {
   "cell_type": "code",
   "execution_count": 4,
   "id": "eae0cfe0-2e0e-4c48-9944-aa61b2b5534d",
   "metadata": {},
   "outputs": [
    {
     "data": {
      "text/plain": [
       "'h'"
      ]
     },
     "execution_count": 4,
     "metadata": {},
     "output_type": "execute_result"
    }
   ],
   "source": [
    "s[0] #positive indexing"
   ]
  },
  {
   "cell_type": "code",
   "execution_count": 5,
   "id": "24143ea0-27de-4647-a629-2435c0e3855f",
   "metadata": {},
   "outputs": [
    {
     "data": {
      "text/plain": [
       "'d'"
      ]
     },
     "execution_count": 5,
     "metadata": {},
     "output_type": "execute_result"
    }
   ],
   "source": [
    "s[-1] #negative indexing"
   ]
  },
  {
   "cell_type": "markdown",
   "id": "8e69d4bb-d8f3-4df4-94bd-a6b28260e8b2",
   "metadata": {},
   "source": [
    "##### slicing"
   ]
  },
  {
   "cell_type": "code",
   "execution_count": 6,
   "id": "5a88cd33-8df4-4296-991c-805445cdedd1",
   "metadata": {},
   "outputs": [
    {
     "data": {
      "text/plain": [
       "'hello'"
      ]
     },
     "execution_count": 6,
     "metadata": {},
     "output_type": "execute_result"
    }
   ],
   "source": [
    "s[0:5]"
   ]
  },
  {
   "cell_type": "code",
   "execution_count": 7,
   "id": "f493878e-0fdb-4c2b-ae86-1349e7dc6f6d",
   "metadata": {},
   "outputs": [
    {
     "data": {
      "text/plain": [
       "'llo world'"
      ]
     },
     "execution_count": 7,
     "metadata": {},
     "output_type": "execute_result"
    }
   ],
   "source": [
    "s[2:]"
   ]
  },
  {
   "cell_type": "code",
   "execution_count": 8,
   "id": "019e0360-1993-496e-87c0-80ca0b08e3f7",
   "metadata": {},
   "outputs": [
    {
     "data": {
      "text/plain": [
       "'hl'"
      ]
     },
     "execution_count": 8,
     "metadata": {},
     "output_type": "execute_result"
    }
   ],
   "source": [
    "s[0:6:3]"
   ]
  },
  {
   "cell_type": "code",
   "execution_count": 9,
   "id": "0ba8a200-9fd3-46f2-8a9e-3cc0aaac2016",
   "metadata": {},
   "outputs": [
    {
     "data": {
      "text/plain": [
       "'w olle'"
      ]
     },
     "execution_count": 9,
     "metadata": {},
     "output_type": "execute_result"
    }
   ],
   "source": [
    "s[6:0:-1]"
   ]
  },
  {
   "cell_type": "code",
   "execution_count": 10,
   "id": "b80bd7de-7589-4a80-939a-e8d92ded3e25",
   "metadata": {},
   "outputs": [
    {
     "data": {
      "text/plain": [
       "'dlrow olleh'"
      ]
     },
     "execution_count": 10,
     "metadata": {},
     "output_type": "execute_result"
    }
   ],
   "source": [
    "s[::-1]"
   ]
  },
  {
   "cell_type": "code",
   "execution_count": 11,
   "id": "a1ef47f3-a32d-422d-8c4a-25e5e141a17a",
   "metadata": {},
   "outputs": [
    {
     "data": {
      "text/plain": [
       "'dlrow'"
      ]
     },
     "execution_count": 11,
     "metadata": {},
     "output_type": "execute_result"
    }
   ],
   "source": [
    "s[-1:-6:-1]"
   ]
  },
  {
   "cell_type": "markdown",
   "id": "e84edeb6-afd4-4725-ba55-e75ae5d6b6a0",
   "metadata": {},
   "source": [
    "#### editing and deleting string"
   ]
  },
  {
   "cell_type": "markdown",
   "id": "a846845d-93e3-48eb-8569-ffbdf92db71f",
   "metadata": {},
   "source": [
    "python strings are immutable(can not change)"
   ]
  },
  {
   "cell_type": "code",
   "execution_count": 12,
   "id": "e73daffe-7ed8-4f26-a404-8a1895b0cc73",
   "metadata": {},
   "outputs": [],
   "source": [
    "s = 'hello world'"
   ]
  },
  {
   "cell_type": "code",
   "execution_count": 13,
   "id": "0d9cbc3f-683a-4324-9f28-ff4b3b92ea43",
   "metadata": {},
   "outputs": [],
   "source": [
    "del s"
   ]
  },
  {
   "cell_type": "markdown",
   "id": "eaf3622f-df0d-4cdb-b2ee-d277ad3c8a98",
   "metadata": {},
   "source": [
    "#### operations in strings\n",
    "##### Arithmatic Operations\n",
    "##### Relational Operations\n",
    "##### Logical Operations\n",
    "##### loops on strings\n",
    "##### Membership Operations"
   ]
  },
  {
   "cell_type": "code",
   "execution_count": 14,
   "id": "0cce1221-2844-48de-b24d-d692915bea30",
   "metadata": {},
   "outputs": [
    {
     "name": "stdout",
     "output_type": "stream",
     "text": [
      "delhi Mumbai\n"
     ]
    }
   ],
   "source": [
    "print('delhi' + ' ' + 'Mumbai')"
   ]
  },
  {
   "cell_type": "code",
   "execution_count": 15,
   "id": "198b499c-9c46-459f-874d-299825b04f92",
   "metadata": {},
   "outputs": [
    {
     "name": "stdout",
     "output_type": "stream",
     "text": [
      "delhidelhidelhidelhidelhi\n"
     ]
    }
   ],
   "source": [
    "print('delhi'*5)"
   ]
  },
  {
   "cell_type": "code",
   "execution_count": 16,
   "id": "4c5ae8f0-dfed-4aa4-a7e5-cc2035c5beaf",
   "metadata": {},
   "outputs": [
    {
     "data": {
      "text/plain": [
       "True"
      ]
     },
     "execution_count": 16,
     "metadata": {},
     "output_type": "execute_result"
    }
   ],
   "source": [
    "'delhi' == 'delhi'"
   ]
  },
  {
   "cell_type": "code",
   "execution_count": 17,
   "id": "efdf3afe-925d-4c65-b173-e86ff0181561",
   "metadata": {},
   "outputs": [
    {
     "data": {
      "text/plain": [
       "False"
      ]
     },
     "execution_count": 17,
     "metadata": {},
     "output_type": "execute_result"
    }
   ],
   "source": [
    "'mumbai' > 'pune' #Lexiographically"
   ]
  },
  {
   "cell_type": "code",
   "execution_count": 18,
   "id": "0dea04f8-6b5c-4272-9264-b4c1a0556f97",
   "metadata": {},
   "outputs": [
    {
     "data": {
      "text/plain": [
       "False"
      ]
     },
     "execution_count": 18,
     "metadata": {},
     "output_type": "execute_result"
    }
   ],
   "source": [
    "'Pune' > 'pune'"
   ]
  },
  {
   "cell_type": "code",
   "execution_count": 19,
   "id": "c0ea332f-8cdb-4989-b6ec-e9db48a2af9a",
   "metadata": {},
   "outputs": [
    {
     "data": {
      "text/plain": [
       "'world'"
      ]
     },
     "execution_count": 19,
     "metadata": {},
     "output_type": "execute_result"
    }
   ],
   "source": [
    "'hello' and 'world'"
   ]
  },
  {
   "cell_type": "code",
   "execution_count": 20,
   "id": "0ebcab2b-e7b8-4b16-bcf6-45a10caab777",
   "metadata": {},
   "outputs": [
    {
     "data": {
      "text/plain": [
       "'hello'"
      ]
     },
     "execution_count": 20,
     "metadata": {},
     "output_type": "execute_result"
    }
   ],
   "source": [
    "'hello' or 'world'"
   ]
  },
  {
   "cell_type": "code",
   "execution_count": 21,
   "id": "e1da12b8-d811-403b-91e4-c1302ef823a8",
   "metadata": {},
   "outputs": [
    {
     "data": {
      "text/plain": [
       "''"
      ]
     },
     "execution_count": 21,
     "metadata": {},
     "output_type": "execute_result"
    }
   ],
   "source": [
    "'' and 'world'"
   ]
  },
  {
   "cell_type": "code",
   "execution_count": 22,
   "id": "fb9cec75-7d5f-4c24-b3c8-edf796a1db37",
   "metadata": {},
   "outputs": [
    {
     "data": {
      "text/plain": [
       "'world'"
      ]
     },
     "execution_count": 22,
     "metadata": {},
     "output_type": "execute_result"
    }
   ],
   "source": [
    "'' or 'world'"
   ]
  },
  {
   "cell_type": "code",
   "execution_count": 23,
   "id": "129669a3-042b-4a09-8cea-338676dc91eb",
   "metadata": {},
   "outputs": [
    {
     "data": {
      "text/plain": [
       "True"
      ]
     },
     "execution_count": 23,
     "metadata": {},
     "output_type": "execute_result"
    }
   ],
   "source": [
    "not ''"
   ]
  },
  {
   "cell_type": "code",
   "execution_count": 24,
   "id": "2756ea9a-64c1-494e-af25-1de4a213515e",
   "metadata": {},
   "outputs": [
    {
     "data": {
      "text/plain": [
       "False"
      ]
     },
     "execution_count": 24,
     "metadata": {},
     "output_type": "execute_result"
    }
   ],
   "source": [
    "not 'hello'"
   ]
  },
  {
   "cell_type": "code",
   "execution_count": 25,
   "id": "34c5207d-d920-4e02-aadc-5fb9f977f53b",
   "metadata": {},
   "outputs": [
    {
     "name": "stdout",
     "output_type": "stream",
     "text": [
      "h\n",
      "e\n",
      "l\n",
      "l\n",
      "o\n"
     ]
    }
   ],
   "source": [
    "for i in 'hello':\n",
    "    print(i)"
   ]
  },
  {
   "cell_type": "code",
   "execution_count": 26,
   "id": "56037ecd-914f-4d79-9d47-992b6662c064",
   "metadata": {},
   "outputs": [
    {
     "data": {
      "text/plain": [
       "True"
      ]
     },
     "execution_count": 26,
     "metadata": {},
     "output_type": "execute_result"
    }
   ],
   "source": [
    "'d' in 'delhi'"
   ]
  },
  {
   "cell_type": "code",
   "execution_count": 27,
   "id": "8b1d3005-62c5-41bd-a8ed-362fbc6c71f7",
   "metadata": {},
   "outputs": [
    {
     "data": {
      "text/plain": [
       "False"
      ]
     },
     "execution_count": 27,
     "metadata": {},
     "output_type": "execute_result"
    }
   ],
   "source": [
    "'D' in 'delhi'"
   ]
  },
  {
   "cell_type": "code",
   "execution_count": 28,
   "id": "af23481b-c60d-4303-8b7e-e04990d3eb90",
   "metadata": {},
   "outputs": [
    {
     "data": {
      "text/plain": [
       "True"
      ]
     },
     "execution_count": 28,
     "metadata": {},
     "output_type": "execute_result"
    }
   ],
   "source": [
    "'y' not in 'delhi'"
   ]
  },
  {
   "cell_type": "markdown",
   "id": "07193074-607d-4c64-8a0d-7e4802520764",
   "metadata": {},
   "source": [
    "#### Common functions"
   ]
  },
  {
   "cell_type": "code",
   "execution_count": 29,
   "id": "115889f5-2c22-4345-bd40-17778fa509e9",
   "metadata": {},
   "outputs": [
    {
     "data": {
      "text/plain": [
       "11"
      ]
     },
     "execution_count": 29,
     "metadata": {},
     "output_type": "execute_result"
    }
   ],
   "source": [
    "len('hello world')"
   ]
  },
  {
   "cell_type": "code",
   "execution_count": 30,
   "id": "76db0466-4e86-42ef-8cd8-154429ce6674",
   "metadata": {},
   "outputs": [
    {
     "data": {
      "text/plain": [
       "'o'"
      ]
     },
     "execution_count": 30,
     "metadata": {},
     "output_type": "execute_result"
    }
   ],
   "source": [
    "max('hello')"
   ]
  },
  {
   "cell_type": "code",
   "execution_count": 31,
   "id": "9e484be3-cc0c-4e1e-8831-a62bb94a06e7",
   "metadata": {},
   "outputs": [
    {
     "data": {
      "text/plain": [
       "'e'"
      ]
     },
     "execution_count": 31,
     "metadata": {},
     "output_type": "execute_result"
    }
   ],
   "source": [
    "min('hello')"
   ]
  },
  {
   "cell_type": "code",
   "execution_count": 32,
   "id": "ee6dff23-2f56-4a7b-9597-6cedd11d1e5e",
   "metadata": {},
   "outputs": [
    {
     "data": {
      "text/plain": [
       "[' ', 'd', 'e', 'h', 'l', 'l', 'l', 'o', 'o', 'r', 'w']"
      ]
     },
     "execution_count": 32,
     "metadata": {},
     "output_type": "execute_result"
    }
   ],
   "source": [
    "sorted('hello world')"
   ]
  },
  {
   "cell_type": "code",
   "execution_count": 33,
   "id": "d540893e-e160-4d25-9f32-91a599e7405f",
   "metadata": {},
   "outputs": [
    {
     "data": {
      "text/plain": [
       "['w', 'r', 'o', 'o', 'l', 'l', 'l', 'h', 'e', 'd', ' ']"
      ]
     },
     "execution_count": 33,
     "metadata": {},
     "output_type": "execute_result"
    }
   ],
   "source": [
    "sorted('hello world',reverse = True)"
   ]
  },
  {
   "cell_type": "markdown",
   "id": "fd7c1115-722b-4d42-933b-117cf538ff57",
   "metadata": {},
   "source": [
    "#### string functions"
   ]
  },
  {
   "cell_type": "code",
   "execution_count": 34,
   "id": "c5f0465d-61fe-4d54-8cc1-c2a4fb5c172c",
   "metadata": {},
   "outputs": [
    {
     "data": {
      "text/plain": [
       "'Hello world'"
      ]
     },
     "execution_count": 34,
     "metadata": {},
     "output_type": "execute_result"
    }
   ],
   "source": [
    "s = 'hello world'\n",
    "s.capitalize()"
   ]
  },
  {
   "cell_type": "code",
   "execution_count": 35,
   "id": "02f98778-1ecc-4946-8aa4-b8479d27333a",
   "metadata": {},
   "outputs": [
    {
     "data": {
      "text/plain": [
       "'Hello World'"
      ]
     },
     "execution_count": 35,
     "metadata": {},
     "output_type": "execute_result"
    }
   ],
   "source": [
    "s.title()"
   ]
  },
  {
   "cell_type": "code",
   "execution_count": 36,
   "id": "15e0b88d-693a-4744-82ec-8a4f70477f79",
   "metadata": {},
   "outputs": [
    {
     "data": {
      "text/plain": [
       "'HELLO WORLD'"
      ]
     },
     "execution_count": 36,
     "metadata": {},
     "output_type": "execute_result"
    }
   ],
   "source": [
    "s.upper()"
   ]
  },
  {
   "cell_type": "code",
   "execution_count": 37,
   "id": "634f46e8-6b4a-4690-9889-321e161e40ce",
   "metadata": {},
   "outputs": [
    {
     "data": {
      "text/plain": [
       "'hello world'"
      ]
     },
     "execution_count": 37,
     "metadata": {},
     "output_type": "execute_result"
    }
   ],
   "source": [
    "s.lower()"
   ]
  },
  {
   "cell_type": "code",
   "execution_count": 38,
   "id": "54951db9-e014-406f-bc9f-84852284505a",
   "metadata": {},
   "outputs": [
    {
     "data": {
      "text/plain": [
       "'hELlO worLD'"
      ]
     },
     "execution_count": 38,
     "metadata": {},
     "output_type": "execute_result"
    }
   ],
   "source": [
    "\"HelLo WORld\".swapcase()"
   ]
  },
  {
   "cell_type": "code",
   "execution_count": 39,
   "id": "2699afd3-b0b1-4564-a403-406771fe02c8",
   "metadata": {},
   "outputs": [
    {
     "data": {
      "text/plain": [
       "2"
      ]
     },
     "execution_count": 39,
     "metadata": {},
     "output_type": "execute_result"
    }
   ],
   "source": [
    "'my name is this'.count('i')"
   ]
  },
  {
   "cell_type": "code",
   "execution_count": 40,
   "id": "6294a075-f1be-4820-9576-ae8460131750",
   "metadata": {},
   "outputs": [
    {
     "data": {
      "text/plain": [
       "8"
      ]
     },
     "execution_count": 40,
     "metadata": {},
     "output_type": "execute_result"
    }
   ],
   "source": [
    "'my name is this'.find('is')"
   ]
  },
  {
   "cell_type": "code",
   "execution_count": 41,
   "id": "da2b99db-698f-447a-ae6e-e50ab803a0b4",
   "metadata": {},
   "outputs": [
    {
     "data": {
      "text/plain": [
       "8"
      ]
     },
     "execution_count": 41,
     "metadata": {},
     "output_type": "execute_result"
    }
   ],
   "source": [
    "'my name is this'.index('is')"
   ]
  },
  {
   "cell_type": "code",
   "execution_count": 42,
   "id": "c29ba3dd-06a9-442c-afe0-4369022b0236",
   "metadata": {},
   "outputs": [
    {
     "data": {
      "text/plain": [
       "True"
      ]
     },
     "execution_count": 42,
     "metadata": {},
     "output_type": "execute_result"
    }
   ],
   "source": [
    "'my name is this'.endswith('is')"
   ]
  },
  {
   "cell_type": "code",
   "execution_count": 43,
   "id": "18a9ba11-d934-419d-a233-4f3ce45e017a",
   "metadata": {},
   "outputs": [
    {
     "data": {
      "text/plain": [
       "True"
      ]
     },
     "execution_count": 43,
     "metadata": {},
     "output_type": "execute_result"
    }
   ],
   "source": [
    "'my name is this'.startswith('m')"
   ]
  },
  {
   "cell_type": "code",
   "execution_count": 44,
   "id": "38609d33-fda4-4809-99e1-45ee29de98c0",
   "metadata": {},
   "outputs": [
    {
     "data": {
      "text/plain": [
       "'hii my name is nitish and i am a male'"
      ]
     },
     "execution_count": 44,
     "metadata": {},
     "output_type": "execute_result"
    }
   ],
   "source": [
    "name = 'nitish'\n",
    "gender = 'male'\n",
    "\n",
    "'hii my name is {} and i am a {}'.format(name,gender)"
   ]
  },
  {
   "cell_type": "code",
   "execution_count": 45,
   "id": "d81f5dc3-1438-410c-b757-aad999b6bbb9",
   "metadata": {},
   "outputs": [
    {
     "data": {
      "text/plain": [
       "True"
      ]
     },
     "execution_count": 45,
     "metadata": {},
     "output_type": "execute_result"
    }
   ],
   "source": [
    "'simi123'.isalnum()"
   ]
  },
  {
   "cell_type": "code",
   "execution_count": 46,
   "id": "0e643f13-c433-4d38-8804-5ac2c4dd715c",
   "metadata": {},
   "outputs": [
    {
     "data": {
      "text/plain": [
       "True"
      ]
     },
     "execution_count": 46,
     "metadata": {},
     "output_type": "execute_result"
    }
   ],
   "source": [
    "'simran'.isalpha()"
   ]
  },
  {
   "cell_type": "code",
   "execution_count": 47,
   "id": "f32f86cb-6b80-48dc-9fc8-cb09b07c181a",
   "metadata": {},
   "outputs": [
    {
     "data": {
      "text/plain": [
       "True"
      ]
     },
     "execution_count": 47,
     "metadata": {},
     "output_type": "execute_result"
    }
   ],
   "source": [
    "'123'.isdigit()"
   ]
  },
  {
   "cell_type": "code",
   "execution_count": 48,
   "id": "9c9a4d46-fbdf-4efc-8f34-c93595de70d0",
   "metadata": {},
   "outputs": [
    {
     "data": {
      "text/plain": [
       "False"
      ]
     },
     "execution_count": 48,
     "metadata": {},
     "output_type": "execute_result"
    }
   ],
   "source": [
    "'1name'.isidentifier()"
   ]
  },
  {
   "cell_type": "code",
   "execution_count": 49,
   "id": "86f246c2-df19-47d5-bc31-a53ee98c5b81",
   "metadata": {},
   "outputs": [
    {
     "data": {
      "text/plain": [
       "['hi', 'my', 'name', 'is', 'this']"
      ]
     },
     "execution_count": 49,
     "metadata": {},
     "output_type": "execute_result"
    }
   ],
   "source": [
    "'hi my name is this'.split()"
   ]
  },
  {
   "cell_type": "code",
   "execution_count": 50,
   "id": "963daf35-2c65-4aae-bed3-0c556320248a",
   "metadata": {},
   "outputs": [
    {
     "data": {
      "text/plain": [
       "'hi my name is this'"
      ]
     },
     "execution_count": 50,
     "metadata": {},
     "output_type": "execute_result"
    }
   ],
   "source": [
    "' '.join(['hi', 'my', 'name', 'is', 'this'])"
   ]
  },
  {
   "cell_type": "code",
   "execution_count": 51,
   "id": "4486e494-e286-4966-8654-b45b77e43cd0",
   "metadata": {},
   "outputs": [
    {
     "data": {
      "text/plain": [
       "'hi my name is that'"
      ]
     },
     "execution_count": 51,
     "metadata": {},
     "output_type": "execute_result"
    }
   ],
   "source": [
    "'hi my name is this'.replace('this','that')"
   ]
  },
  {
   "cell_type": "code",
   "execution_count": 52,
   "id": "acc19d8a-a9e4-4775-a901-e6637f14fec3",
   "metadata": {},
   "outputs": [
    {
     "data": {
      "text/plain": [
       "'simran'"
      ]
     },
     "execution_count": 52,
     "metadata": {},
     "output_type": "execute_result"
    }
   ],
   "source": [
    "'simran              '.strip()"
   ]
  }
 ],
 "metadata": {
  "kernelspec": {
   "display_name": "Python 3 (ipykernel)",
   "language": "python",
   "name": "python3"
  },
  "language_info": {
   "codemirror_mode": {
    "name": "ipython",
    "version": 3
   },
   "file_extension": ".py",
   "mimetype": "text/x-python",
   "name": "python",
   "nbconvert_exporter": "python",
   "pygments_lexer": "ipython3",
   "version": "3.12.0"
  }
 },
 "nbformat": 4,
 "nbformat_minor": 5
}
