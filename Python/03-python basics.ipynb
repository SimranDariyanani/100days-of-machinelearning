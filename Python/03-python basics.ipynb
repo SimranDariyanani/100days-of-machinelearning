{
 "cells": [
  {
   "cell_type": "markdown",
   "id": "310ba74b-332c-466e-9423-32ba4be8db99",
   "metadata": {},
   "source": [
    "### Pass statement"
   ]
  },
  {
   "cell_type": "code",
   "execution_count": 1,
   "id": "13bd5030-7e21-45e9-8210-306e68e2aa21",
   "metadata": {},
   "outputs": [
    {
     "ename": "IndentationError",
     "evalue": "expected an indented block after function definition on line 1 (2963588563.py, line 2)",
     "output_type": "error",
     "traceback": [
      "\u001b[1;36m  Cell \u001b[1;32mIn[1], line 2\u001b[1;36m\u001b[0m\n\u001b[1;33m    print(\"hi\")\u001b[0m\n\u001b[1;37m    ^\u001b[0m\n\u001b[1;31mIndentationError\u001b[0m\u001b[1;31m:\u001b[0m expected an indented block after function definition on line 1\n"
     ]
    }
   ],
   "source": [
    "def fun():\n",
    "print(\"hi\")"
   ]
  },
  {
   "cell_type": "code",
   "execution_count": 2,
   "id": "f6385118-bedd-4f74-9a60-5eb303d315b4",
   "metadata": {},
   "outputs": [
    {
     "name": "stdout",
     "output_type": "stream",
     "text": [
      "hi\n"
     ]
    }
   ],
   "source": [
    "def fun():\n",
    "    pass\n",
    "fun()\n",
    "print(\"hi\")"
   ]
  },
  {
   "cell_type": "markdown",
   "id": "24e47497-d339-4316-b531-4c6f8931f1c0",
   "metadata": {},
   "source": [
    "### yield keyword"
   ]
  },
  {
   "cell_type": "code",
   "execution_count": 3,
   "id": "b134dd38-06b9-40b4-83e8-1df5f8c4f303",
   "metadata": {},
   "outputs": [
    {
     "name": "stdout",
     "output_type": "stream",
     "text": [
      "1\n",
      "3\n",
      "4\n"
     ]
    }
   ],
   "source": [
    "def fun():\n",
    "    yield 1\n",
    "    yield 3\n",
    "    yield 4\n",
    "for value in fun():\n",
    "    print(value)"
   ]
  },
  {
   "cell_type": "markdown",
   "id": "bfbbf2e7-c67a-4f07-ab7b-3230a6b4f47a",
   "metadata": {},
   "source": [
    "### returning multiple values"
   ]
  },
  {
   "cell_type": "code",
   "execution_count": 4,
   "id": "796f184f-a7ac-4562-8004-185082ea3f90",
   "metadata": {},
   "outputs": [
    {
     "name": "stdout",
     "output_type": "stream",
     "text": [
      "simran\n",
      "20\n"
     ]
    }
   ],
   "source": [
    "class Test:\n",
    "    def __init__(self):\n",
    "        self.str = \"simran\"\n",
    "        self.x = 20\n",
    "t = Test()\n",
    "print(t.str)\n",
    "print(t.x)"
   ]
  },
  {
   "cell_type": "markdown",
   "id": "a87e7cb8-2e32-4a20-9cad-3cf434694c3c",
   "metadata": {},
   "source": [
    "### Partial function"
   ]
  },
  {
   "cell_type": "code",
   "execution_count": 5,
   "id": "fb855230-a227-4847-bcc2-4476356b1fe5",
   "metadata": {},
   "outputs": [],
   "source": [
    "from functools import partial"
   ]
  },
  {
   "cell_type": "code",
   "execution_count": 6,
   "id": "a93c4d19-889b-40bc-b365-52f9d4c50ccd",
   "metadata": {},
   "outputs": [
    {
     "name": "stdout",
     "output_type": "stream",
     "text": [
      "(12, 11, 2)\n"
     ]
    }
   ],
   "source": [
    "def add(a,b,c):\n",
    "    return a+10,b+10,c\n",
    "part = partial(add,b=1,c=2)\n",
    "print(part(2))"
   ]
  },
  {
   "cell_type": "code",
   "execution_count": 7,
   "id": "b6551e75-1042-431e-a9bd-d0eddce8d4e4",
   "metadata": {},
   "outputs": [
    {
     "name": "stdout",
     "output_type": "stream",
     "text": [
      "(30, 11, 2)\n"
     ]
    }
   ],
   "source": [
    "print(part(20))"
   ]
  },
  {
   "cell_type": "markdown",
   "id": "a043668b-63d3-4dcc-8729-44bd8b2358b1",
   "metadata": {},
   "source": [
    "### First class function"
   ]
  },
  {
   "cell_type": "code",
   "execution_count": 8,
   "id": "a81b762b-e13f-4063-afb2-ec811d5d73fa",
   "metadata": {},
   "outputs": [
    {
     "name": "stdout",
     "output_type": "stream",
     "text": [
      "Hello\n",
      "Hello\n"
     ]
    }
   ],
   "source": [
    "#function is an instance of the object type\n",
    "def shout(text): \n",
    "    return text\n",
    "  \n",
    "print(shout('Hello')) \n",
    "  \n",
    "yell = shout \n",
    "  \n",
    "print (yell('Hello')) "
   ]
  },
  {
   "cell_type": "code",
   "execution_count": 9,
   "id": "b8f6da78-0421-4f61-a0ea-26e8601661c9",
   "metadata": {},
   "outputs": [
    {
     "name": "stdout",
     "output_type": "stream",
     "text": [
      "hii\n"
     ]
    },
    {
     "data": {
      "text/plain": [
       "'hello'"
      ]
     },
     "execution_count": 9,
     "metadata": {},
     "output_type": "execute_result"
    }
   ],
   "source": [
    "#you can pass function as an parameter to  another function\n",
    "#you can store function in a variable\n",
    "def shout(text):\n",
    "    return text\n",
    "def shout2(func):\n",
    "    sentence = func('hii')\n",
    "    print(sentence)\n",
    "    return 'hello'\n",
    "shout2(shout)"
   ]
  },
  {
   "cell_type": "code",
   "execution_count": 10,
   "id": "bffc2219-6bef-4df5-944f-2dc129cda795",
   "metadata": {},
   "outputs": [
    {
     "name": "stdout",
     "output_type": "stream",
     "text": [
      "25\n"
     ]
    }
   ],
   "source": [
    "#you can return function from the function\n",
    "def add(x):\n",
    "    def add1(y):\n",
    "        print(x+y)\n",
    "    return add1\n",
    "addition = add(10)\n",
    "addition(15)"
   ]
  },
  {
   "cell_type": "markdown",
   "id": "8d2a1147-6da3-44c8-9866-946ae89da5c8",
   "metadata": {},
   "source": [
    "### Decorators"
   ]
  },
  {
   "cell_type": "code",
   "execution_count": 11,
   "id": "39cd7bdc-a2cc-403d-8b5d-1d5640725e72",
   "metadata": {},
   "outputs": [
    {
     "name": "stdout",
     "output_type": "stream",
     "text": [
      "I got decorated\n",
      "I am ordinary\n"
     ]
    }
   ],
   "source": [
    "def make_pretty(func):\n",
    "    def inner():\n",
    "        print(\"I got decorated\")\n",
    "        func()\n",
    "    return inner\n",
    "@make_pretty\n",
    "def ordinary():\n",
    "    print(\"I am ordinary\")\n",
    "ordinary()"
   ]
  },
  {
   "cell_type": "code",
   "execution_count": 12,
   "id": "a3a2f117-a76b-405e-839e-78e61fccba9c",
   "metadata": {},
   "outputs": [
    {
     "name": "stdout",
     "output_type": "stream",
     "text": [
      "I'm in house\n",
      "I'm in inner\n",
      "I'm extra\n"
     ]
    }
   ],
   "source": [
    "def house(func):\n",
    "    def inner():\n",
    "        print(\"I'm in inner\")\n",
    "        func()   #put this in line in comment and then check\n",
    "    print(\"I'm in house\")\n",
    "    return inner\n",
    "@house\n",
    "def extra():\n",
    "    print(\"I'm extra\")\n",
    "extra()"
   ]
  }
 ],
 "metadata": {
  "kernelspec": {
   "display_name": "Python 3 (ipykernel)",
   "language": "python",
   "name": "python3"
  },
  "language_info": {
   "codemirror_mode": {
    "name": "ipython",
    "version": 3
   },
   "file_extension": ".py",
   "mimetype": "text/x-python",
   "name": "python",
   "nbconvert_exporter": "python",
   "pygments_lexer": "ipython3",
   "version": "3.12.0"
  }
 },
 "nbformat": 4,
 "nbformat_minor": 5
}
