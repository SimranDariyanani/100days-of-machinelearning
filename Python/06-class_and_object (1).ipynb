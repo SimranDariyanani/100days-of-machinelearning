{
  "nbformat": 4,
  "nbformat_minor": 0,
  "metadata": {
    "colab": {
      "provenance": []
    },
    "kernelspec": {
      "name": "python3",
      "display_name": "Python 3"
    },
    "language_info": {
      "name": "python"
    }
  },
  "cells": [
    {
      "cell_type": "code",
      "execution_count": null,
      "metadata": {
        "id": "aXQHFzmaKyOe"
      },
      "outputs": [],
      "source": [
        "class Atm:\n",
        "  def __init__(self):\n",
        "    self.pin =''\n",
        "    self.balance = 0\n",
        "    self.menu()\n",
        "\n",
        "  def menu(self):\n",
        "    user_input = int(input('''\n",
        "    1. press 1 to create pin\n",
        "    2. press 2 for change pin\n",
        "    3. press 3 for check balance\n",
        "    4. press 4 for withdraw\n",
        "    5. press anything else to exit\n",
        "    '''))\n",
        "    if user_input == 1:\n",
        "      self.create_pin()\n",
        "    elif user_input == 2:\n",
        "      self.change_pin()\n",
        "    elif user_input == 3:\n",
        "      self.check_balance()\n",
        "    elif user_input == 4:\n",
        "      self.withdraw()\n",
        "    else:\n",
        "      exit()\n",
        "\n",
        "  def create_pin(self):\n",
        "    user_pin = input(\"enter your pin:\")\n",
        "    self.pin = user_pin\n",
        "    balance = int(input(\"enter your balance:\"))\n",
        "    self.balance = balance\n",
        "    print('pin created !!')\n",
        "    self.menu()\n",
        "\n",
        "  def change_pin(self):\n",
        "    old_pin = input(\"enter old pin:\")\n",
        "    if self.pin == old_pin:\n",
        "      new_pin = input(\"enter new pin:\")\n",
        "      self.pin = new_pin\n",
        "    else:\n",
        "      print('incorrect pin')\n",
        "    self.menu()\n",
        "\n",
        "  def check_balance(self):\n",
        "    user_pin = input(\"Enter your pin:\")\n",
        "    if self.pin == user_pin:\n",
        "      print(\"Your balance is : \",self.balance)\n",
        "    else:\n",
        "      print(\"Incorrect print!\")\n",
        "    self.menu()\n",
        "\n",
        "  def withdraw(self):\n",
        "    user_pin = input(\"Enter your pin:\")\n",
        "    if self.pin == user_pin:\n",
        "      amount = int(input(\"Enter amount:\"))\n",
        "      if amount <= self.balance:\n",
        "         self.balance = self.balance - amount\n",
        "         print(\"Your current balance is:\",self.balance)\n",
        "      else:\n",
        "         print(\"recheck your balance !\")\n",
        "    else:\n",
        "      print(\"incorrect pin\")\n",
        "    self.menu()"
      ]
    },
    {
      "cell_type": "code",
      "source": [
        "obj = Atm()"
      ],
      "metadata": {
        "colab": {
          "base_uri": "https://localhost:8080/"
        },
        "id": "1CseeaDnK20m",
        "outputId": "33370228-2b16-4f22-cee9-703bc6a513db"
      },
      "execution_count": null,
      "outputs": [
        {
          "name": "stdout",
          "output_type": "stream",
          "text": [
            "\n",
            "    1. press 1 to create pin\n",
            "    2. press 2 for change pin\n",
            "    3. press 3 for check balance\n",
            "    4. press 4 for withdraw\n",
            "    5. press anything else to exit\n",
            "    1\n",
            "enter your pin:1234\n",
            "enter your balance:12000\n",
            "pin created !!\n",
            "\n",
            "    1. press 1 to create pin\n",
            "    2. press 2 for change pin\n",
            "    3. press 3 for check balance\n",
            "    4. press 4 for withdraw\n",
            "    5. press anything else to exit\n",
            "    3\n",
            "Enter your pin:1234\n",
            "Your balance is :  12000\n",
            "\n",
            "    1. press 1 to create pin\n",
            "    2. press 2 for change pin\n",
            "    3. press 3 for check balance\n",
            "    4. press 4 for withdraw\n",
            "    5. press anything else to exit\n",
            "    4\n",
            "Enter your pin:5000\n",
            "incorrect pin\n",
            "\n",
            "    1. press 1 to create pin\n",
            "    2. press 2 for change pin\n",
            "    3. press 3 for check balance\n",
            "    4. press 4 for withdraw\n",
            "    5. press anything else to exit\n",
            "    4\n",
            "Enter your pin:1234\n",
            "Enter amount:5000\n",
            "Your current balance is: 7000\n",
            "\n",
            "    1. press 1 to create pin\n",
            "    2. press 2 for change pin\n",
            "    3. press 3 for check balance\n",
            "    4. press 4 for withdraw\n",
            "    5. press anything else to exit\n",
            "    5\n"
          ]
        }
      ]
    },
    {
      "cell_type": "markdown",
      "source": [
        "Here we've seen a small example of how we can use class and objects to create real world applications"
      ],
      "metadata": {
        "id": "JPsHJ8XDMGAo"
      }
    }
  ]
}
