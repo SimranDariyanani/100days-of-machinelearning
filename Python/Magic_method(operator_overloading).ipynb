{
  "nbformat": 4,
  "nbformat_minor": 0,
  "metadata": {
    "colab": {
      "provenance": []
    },
    "kernelspec": {
      "name": "python3",
      "display_name": "Python 3"
    },
    "language_info": {
      "name": "python"
    }
  },
  "cells": [
    {
      "cell_type": "code",
      "execution_count": 13,
      "metadata": {
        "id": "ODB3pS9DLILb"
      },
      "outputs": [],
      "source": [
        "class Fractions:\n",
        "  #parameterized constructor\n",
        "  def __init__(self,x,y):\n",
        "    self.num = x\n",
        "    self.den = y\n",
        "  def __str__(self):\n",
        "    return \"{}/{}\".format(self.num,self.den)\n",
        "  def __add__(self,other):\n",
        "    new_num = self.num*other.den + other.num*self.den\n",
        "    new_den = self.den*other.den\n",
        "\n",
        "    return \"{}/{}\".format(new_num,new_den)\n",
        "  def __sub__(self,other):\n",
        "    new_num = self.num*other.den - other.num*self.den\n",
        "    new_den = self.den*other.den\n",
        "\n",
        "    return \"{}/{}\".format(new_num,new_den)\n",
        "  def __mul__(self,other):\n",
        "    new_num = self.num*other.num\n",
        "    new_den = self.den*other.den\n",
        "\n",
        "    return \"{}/{}\".format(new_num,new_den)\n",
        "  def __truediv__(self,other):\n",
        "    new_num = self.num*other.den\n",
        "    new_den = self.den*other.num\n",
        "\n",
        "    return \"{}/{}\".format(new_num,new_den)\n",
        "  def convert_to_decimal(self):\n",
        "    return self.num/self.den\n"
      ]
    },
    {
      "cell_type": "code",
      "source": [
        "fr1 = Fractions(3,4)\n",
        "fr2 = Fractions(1,2)"
      ],
      "metadata": {
        "id": "NUtZbt_bLMS2"
      },
      "execution_count": 14,
      "outputs": []
    },
    {
      "cell_type": "code",
      "source": [
        "fr1.convert_to_decimal()"
      ],
      "metadata": {
        "colab": {
          "base_uri": "https://localhost:8080/"
        },
        "id": "IRIM8r0aLPaR",
        "outputId": "a91230ad-9fae-4b48-fced-7cec731ea260"
      },
      "execution_count": 15,
      "outputs": [
        {
          "output_type": "execute_result",
          "data": {
            "text/plain": [
              "0.75"
            ]
          },
          "metadata": {},
          "execution_count": 15
        }
      ]
    },
    {
      "cell_type": "code",
      "source": [
        "print(fr1 + fr2)"
      ],
      "metadata": {
        "colab": {
          "base_uri": "https://localhost:8080/"
        },
        "id": "kjgJinPALPdr",
        "outputId": "6ac98bc3-515f-4c78-8013-4f66bf257f21"
      },
      "execution_count": 16,
      "outputs": [
        {
          "output_type": "stream",
          "name": "stdout",
          "text": [
            "10/8\n"
          ]
        }
      ]
    },
    {
      "cell_type": "code",
      "source": [
        "print(fr1 - fr2)\n",
        "print(fr1 * fr2)\n",
        "print(fr1 / fr2)"
      ],
      "metadata": {
        "colab": {
          "base_uri": "https://localhost:8080/"
        },
        "id": "aFVNBctkLUn_",
        "outputId": "334a447c-9585-4c84-b734-cf46eb506cac"
      },
      "execution_count": 17,
      "outputs": [
        {
          "output_type": "stream",
          "name": "stdout",
          "text": [
            "2/8\n",
            "3/8\n",
            "6/4\n"
          ]
        }
      ]
    },
    {
      "cell_type": "code",
      "source": [
        "class Demo():\n",
        "  \"\"\"demo class\"\"\"\n",
        "  pass\n",
        "print(Demo.__doc__)"
      ],
      "metadata": {
        "colab": {
          "base_uri": "https://localhost:8080/"
        },
        "id": "ZknfviE6prPT",
        "outputId": "a4b30c9b-6c76-4c50-a00c-8381355b5a36"
      },
      "execution_count": 1,
      "outputs": [
        {
          "output_type": "stream",
          "name": "stdout",
          "text": [
            "demo class\n"
          ]
        }
      ]
    },
    {
      "cell_type": "markdown",
      "source": [
        "**Accessors and Mutators**"
      ],
      "metadata": {
        "id": "izl8Pq6Cp7tg"
      }
    },
    {
      "cell_type": "code",
      "source": [
        "class Student:\n",
        "  def __init__(self,name,age):\n",
        "    self._name = name\n",
        "    self._age = age\n",
        "\n",
        "  def get_name(self):\n",
        "    return self._name\n",
        "\n",
        "s1 = Student('A',20)\n",
        "print(s1.get_name())"
      ],
      "metadata": {
        "colab": {
          "base_uri": "https://localhost:8080/"
        },
        "id": "KwjbGnb-p4vV",
        "outputId": "8d3909ca-af2f-4290-b0cd-d9ff413f2e22"
      },
      "execution_count": 2,
      "outputs": [
        {
          "output_type": "stream",
          "name": "stdout",
          "text": [
            "A\n"
          ]
        }
      ]
    },
    {
      "cell_type": "code",
      "source": [
        "class Student:\n",
        "  def __init__(self,name,age):\n",
        "    self._name = name\n",
        "    self._age = age\n",
        "\n",
        "  def set_name(self,new_name):\n",
        "    self._name = new_name\n",
        "\n",
        "s1 = Student('A',20)"
      ],
      "metadata": {
        "id": "DMjf0C01qcRE"
      },
      "execution_count": 3,
      "outputs": []
    },
    {
      "cell_type": "code",
      "source": [
        "s1.set_name('B')"
      ],
      "metadata": {
        "id": "L7Y4OtU8qrZe"
      },
      "execution_count": 5,
      "outputs": []
    },
    {
      "cell_type": "markdown",
      "source": [
        "**Constructors (new and init)**"
      ],
      "metadata": {
        "id": "x1p4g7_gq02h"
      }
    },
    {
      "cell_type": "code",
      "source": [
        "class Point:\n",
        "  Inst_created = 0\n",
        "\n",
        "  def __new__(cls,*args,**kwargs):\n",
        "    if cls.Inst_created >= 3:\n",
        "      raise ValueError('Cannot create more objects')\n",
        "    cls.Inst_created += 1\n",
        "    print('Objec:count ',cls.Inst_created,\" created...\")\n",
        "    return super().__new__(cls)"
      ],
      "metadata": {
        "id": "pNUswwGzqs5w"
      },
      "execution_count": 8,
      "outputs": []
    },
    {
      "cell_type": "code",
      "source": [
        "p1 = Point()"
      ],
      "metadata": {
        "colab": {
          "base_uri": "https://localhost:8080/"
        },
        "id": "aIThmAdZrzXl",
        "outputId": "07d0b46c-3758-49d3-e49b-5649ed13c21d"
      },
      "execution_count": 9,
      "outputs": [
        {
          "output_type": "stream",
          "name": "stdout",
          "text": [
            "Objec:count  1  created...\n"
          ]
        }
      ]
    },
    {
      "cell_type": "code",
      "source": [
        "p2 = Point()"
      ],
      "metadata": {
        "colab": {
          "base_uri": "https://localhost:8080/"
        },
        "id": "VmQ0a7zWr2Jw",
        "outputId": "774cad88-aa7c-418b-fedd-bfa9c06c9ccc"
      },
      "execution_count": 10,
      "outputs": [
        {
          "output_type": "stream",
          "name": "stdout",
          "text": [
            "Objec:count  2  created...\n"
          ]
        }
      ]
    },
    {
      "cell_type": "code",
      "source": [
        "p3 = Point()"
      ],
      "metadata": {
        "colab": {
          "base_uri": "https://localhost:8080/"
        },
        "id": "A7IP8JwSsoWJ",
        "outputId": "189cad65-477b-437e-d8e8-693907bc017f"
      },
      "execution_count": 11,
      "outputs": [
        {
          "output_type": "stream",
          "name": "stdout",
          "text": [
            "Objec:count  3  created...\n"
          ]
        }
      ]
    },
    {
      "cell_type": "code",
      "source": [
        "p4 = Point()"
      ],
      "metadata": {
        "colab": {
          "base_uri": "https://localhost:8080/",
          "height": 297
        },
        "id": "SjWMWNHwsqZ8",
        "outputId": "e0703937-5a0c-4da6-9b97-43c0209526cd"
      },
      "execution_count": 12,
      "outputs": [
        {
          "output_type": "error",
          "ename": "ValueError",
          "evalue": "Cannot create more objects",
          "traceback": [
            "\u001b[0;31m---------------------------------------------------------------------------\u001b[0m",
            "\u001b[0;31mValueError\u001b[0m                                Traceback (most recent call last)",
            "\u001b[0;32m<ipython-input-12-1241b963c11d>\u001b[0m in \u001b[0;36m<cell line: 1>\u001b[0;34m()\u001b[0m\n\u001b[0;32m----> 1\u001b[0;31m \u001b[0mp4\u001b[0m \u001b[0;34m=\u001b[0m \u001b[0mPoint\u001b[0m\u001b[0;34m(\u001b[0m\u001b[0;34m)\u001b[0m\u001b[0;34m\u001b[0m\u001b[0;34m\u001b[0m\u001b[0m\n\u001b[0m",
            "\u001b[0;32m<ipython-input-8-7e8322e57ae7>\u001b[0m in \u001b[0;36m__new__\u001b[0;34m(cls, *args, **kwargs)\u001b[0m\n\u001b[1;32m      4\u001b[0m   \u001b[0;32mdef\u001b[0m \u001b[0m__new__\u001b[0m\u001b[0;34m(\u001b[0m\u001b[0mcls\u001b[0m\u001b[0;34m,\u001b[0m\u001b[0;34m*\u001b[0m\u001b[0margs\u001b[0m\u001b[0;34m,\u001b[0m\u001b[0;34m**\u001b[0m\u001b[0mkwargs\u001b[0m\u001b[0;34m)\u001b[0m\u001b[0;34m:\u001b[0m\u001b[0;34m\u001b[0m\u001b[0;34m\u001b[0m\u001b[0m\n\u001b[1;32m      5\u001b[0m     \u001b[0;32mif\u001b[0m \u001b[0mcls\u001b[0m\u001b[0;34m.\u001b[0m\u001b[0mInst_created\u001b[0m \u001b[0;34m>=\u001b[0m \u001b[0;36m3\u001b[0m\u001b[0;34m:\u001b[0m\u001b[0;34m\u001b[0m\u001b[0;34m\u001b[0m\u001b[0m\n\u001b[0;32m----> 6\u001b[0;31m       \u001b[0;32mraise\u001b[0m \u001b[0mValueError\u001b[0m\u001b[0;34m(\u001b[0m\u001b[0;34m'Cannot create more objects'\u001b[0m\u001b[0;34m)\u001b[0m\u001b[0;34m\u001b[0m\u001b[0;34m\u001b[0m\u001b[0m\n\u001b[0m\u001b[1;32m      7\u001b[0m     \u001b[0mcls\u001b[0m\u001b[0;34m.\u001b[0m\u001b[0mInst_created\u001b[0m \u001b[0;34m+=\u001b[0m \u001b[0;36m1\u001b[0m\u001b[0;34m\u001b[0m\u001b[0;34m\u001b[0m\u001b[0m\n\u001b[1;32m      8\u001b[0m     \u001b[0mprint\u001b[0m\u001b[0;34m(\u001b[0m\u001b[0;34m'Objec:count '\u001b[0m\u001b[0;34m,\u001b[0m\u001b[0mcls\u001b[0m\u001b[0;34m.\u001b[0m\u001b[0mInst_created\u001b[0m\u001b[0;34m,\u001b[0m\u001b[0;34m\" created...\"\u001b[0m\u001b[0;34m)\u001b[0m\u001b[0;34m\u001b[0m\u001b[0;34m\u001b[0m\u001b[0m\n",
            "\u001b[0;31mValueError\u001b[0m: Cannot create more objects"
          ]
        }
      ]
    },
    {
      "cell_type": "code",
      "source": [],
      "metadata": {
        "id": "1_XbXE1fstbG"
      },
      "execution_count": null,
      "outputs": []
    }
  ]
}