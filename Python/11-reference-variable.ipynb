{
 "cells": [
  {
   "cell_type": "markdown",
   "id": "5b0c1b8b-22a0-43db-bddd-61710201a657",
   "metadata": {},
   "source": [
    "#### Reference Variable"
   ]
  },
  {
   "cell_type": "markdown",
   "id": "61e0c883-ae7b-49f8-96fb-5043f01674b9",
   "metadata": {},
   "source": [
    "object without reference"
   ]
  },
  {
   "cell_type": "code",
   "execution_count": 1,
   "id": "d5d520b9-65f5-4c7f-958f-ca326a079478",
   "metadata": {},
   "outputs": [],
   "source": [
    "class Person:\n",
    "    def __init__(self):\n",
    "        self.name = 'nitish'\n",
    "        self.gender = 'male'\n",
    "\n",
    "p = Person()\n",
    "q = p"
   ]
  },
  {
   "cell_type": "code",
   "execution_count": 2,
   "id": "1abe276f-dc53-42be-a881-f299177c9aa5",
   "metadata": {},
   "outputs": [
    {
     "name": "stdout",
     "output_type": "stream",
     "text": [
      "2577040543664\n",
      "2577040543664\n"
     ]
    }
   ],
   "source": [
    "print(id(p))\n",
    "print(id(q))"
   ]
  },
  {
   "cell_type": "markdown",
   "id": "aff34c73-af87-493c-a58c-7fb0420f845f",
   "metadata": {},
   "source": [
    "change attribute value with the help of 2nd object"
   ]
  },
  {
   "cell_type": "code",
   "execution_count": 3,
   "id": "55599b44-626d-4874-83df-acff9993a92e",
   "metadata": {},
   "outputs": [
    {
     "name": "stdout",
     "output_type": "stream",
     "text": [
      "nitish\n",
      "nitish\n"
     ]
    }
   ],
   "source": [
    "print(p.name)\n",
    "print(q.name)"
   ]
  },
  {
   "cell_type": "code",
   "execution_count": 4,
   "id": "0a27812b-a1af-42b6-8118-edb510a8b9c2",
   "metadata": {},
   "outputs": [
    {
     "name": "stdout",
     "output_type": "stream",
     "text": [
      "ankit\n",
      "ankit\n"
     ]
    }
   ],
   "source": [
    "q.name = 'ankit'\n",
    "print(p.name)\n",
    "print(q.name)"
   ]
  },
  {
   "cell_type": "markdown",
   "id": "3d4e5fee-f906-4b43-b9d4-8a2aa7e9a853",
   "metadata": {},
   "source": [
    "#### Pass By reference"
   ]
  },
  {
   "cell_type": "code",
   "execution_count": 5,
   "id": "d0ba152c-ce4f-4619-afaf-00190bd513fe",
   "metadata": {},
   "outputs": [
    {
     "name": "stdout",
     "output_type": "stream",
     "text": [
      "hii my name is  nitish and I am a  male\n",
      "ankit\n",
      "male\n"
     ]
    }
   ],
   "source": [
    "class Person:\n",
    "    def __init__(self,name,gender):\n",
    "        self.name = name\n",
    "        self.gender = gender\n",
    "\n",
    "def greet(person):\n",
    "    print('hii my name is ',person.name,'and I am a ',person.gender)\n",
    "    p1 = Person('ankit','male')\n",
    "    return p1\n",
    "\n",
    "p = Person('nitish','male')\n",
    "x = greet(p)\n",
    "print(x.name)\n",
    "print(x.gender)"
   ]
  },
  {
   "cell_type": "markdown",
   "id": "bce9c4f5-ab2c-470d-b3f3-ba01cfa03719",
   "metadata": {},
   "source": [
    "#### Object ki mutability"
   ]
  },
  {
   "cell_type": "code",
   "execution_count": 6,
   "id": "43fcef4f-f535-41de-8c76-f2f025cdfcb2",
   "metadata": {},
   "outputs": [
    {
     "name": "stdout",
     "output_type": "stream",
     "text": [
      "2577064813936\n",
      "2577064813936\n"
     ]
    }
   ],
   "source": [
    "class Person:\n",
    "    def __init__(self,name,gender):\n",
    "        self.name = name\n",
    "        self.gender = gender\n",
    "\n",
    "def greet(person):\n",
    "    #print(id(person))\n",
    "    person.name =  'ankit'\n",
    "    #print(person.name)\n",
    "    return person\n",
    "    \n",
    "p = Person('nitish','male')\n",
    "print(id(p))\n",
    "p1 = greet(p)\n",
    "print(id(p1))"
   ]
  },
  {
   "cell_type": "markdown",
   "id": "8a358e18-8812-4237-b851-0f1c86ee35e2",
   "metadata": {},
   "source": [
    "#### Instance Variable Vs. Static Variable"
   ]
  },
  {
   "cell_type": "code",
   "execution_count": 7,
   "id": "6819f20d-131d-4f02-8fc0-2f1985633162",
   "metadata": {},
   "outputs": [],
   "source": [
    "class Atm:\n",
    "    counter = 0\n",
    "\n",
    "    def __init__(self,pin,balance):\n",
    "        self.pin = pin\n",
    "        self.balance = balance\n",
    "        Atm.counter += 1"
   ]
  },
  {
   "cell_type": "code",
   "execution_count": 8,
   "id": "bfefa4b4-439c-4031-b80e-a15c71494af9",
   "metadata": {},
   "outputs": [],
   "source": [
    "obj1 = Atm(1234,1000)\n",
    "obj2 = Atm(567,5000)"
   ]
  },
  {
   "cell_type": "code",
   "execution_count": 9,
   "id": "ca938d78-51d7-42f5-b4d7-1f01459aacae",
   "metadata": {},
   "outputs": [
    {
     "name": "stdout",
     "output_type": "stream",
     "text": [
      "2\n"
     ]
    }
   ],
   "source": [
    "print(Atm.counter)"
   ]
  },
  {
   "cell_type": "code",
   "execution_count": 10,
   "id": "f43ccd5e-265b-468d-860b-298683e90c86",
   "metadata": {},
   "outputs": [],
   "source": [
    "obj3 = Atm(890,9000)"
   ]
  },
  {
   "cell_type": "code",
   "execution_count": 11,
   "id": "42aa03f1-1578-4c8c-b16f-7eb46875c670",
   "metadata": {},
   "outputs": [
    {
     "name": "stdout",
     "output_type": "stream",
     "text": [
      "3\n"
     ]
    }
   ],
   "source": [
    "print(Atm.counter)  #Static Variable"
   ]
  },
  {
   "cell_type": "code",
   "execution_count": 12,
   "id": "7cae3810-eb17-4241-a562-38dcfa2bfcd5",
   "metadata": {},
   "outputs": [
    {
     "name": "stdout",
     "output_type": "stream",
     "text": [
      "890\n"
     ]
    }
   ],
   "source": [
    "print(obj3.pin)    #Instance variable"
   ]
  },
  {
   "cell_type": "code",
   "execution_count": null,
   "id": "616883a2-7141-4142-96a4-8343c6ece0f0",
   "metadata": {},
   "outputs": [],
   "source": [
    "Attribute creation from outside of class"
   ]
  }
 ],
 "metadata": {
  "kernelspec": {
   "display_name": "Python 3 (ipykernel)",
   "language": "python",
   "name": "python3"
  },
  "language_info": {
   "codemirror_mode": {
    "name": "ipython",
    "version": 3
   },
   "file_extension": ".py",
   "mimetype": "text/x-python",
   "name": "python",
   "nbconvert_exporter": "python",
   "pygments_lexer": "ipython3",
   "version": "3.12.0"
  }
 },
 "nbformat": 4,
 "nbformat_minor": 5
}
