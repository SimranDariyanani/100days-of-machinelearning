{
 "cells": [
  {
   "cell_type": "markdown",
   "id": "2d83376e-30d9-4dea-8c1c-58632241a910",
   "metadata": {},
   "source": [
    "### Method Overloading\n",
    "    - Method overloading is not supported in python,it won't raise any errors.Instead,it will consider using the last defined method\n",
    "    - To achieve method overloading in python you need to create method either using default arguments or variable-length arguments  "
   ]
  },
  {
   "cell_type": "code",
   "execution_count": 1,
   "id": "435454bc-5a43-4260-83cf-e34955245d55",
   "metadata": {},
   "outputs": [],
   "source": [
    "class calculate:\n",
    "    def add(self,a,b):\n",
    "        print(\"a + b : {}\".format(a+b))\n",
    "    def add(self,a,b,c):\n",
    "            print(\"a + b + c : {}\".format(a+b+c))"
   ]
  },
  {
   "cell_type": "code",
   "execution_count": 2,
   "id": "e3c5a9c5-42c0-42d2-8d1e-ea97f90895d1",
   "metadata": {},
   "outputs": [
    {
     "name": "stdout",
     "output_type": "stream",
     "text": [
      "a + b + c : 60\n"
     ]
    }
   ],
   "source": [
    "c1 = calculate()\n",
    "c1.add(10,20,30)"
   ]
  },
  {
   "cell_type": "code",
   "execution_count": 3,
   "id": "586beb02-124e-403b-aafb-2c0895e9acef",
   "metadata": {},
   "outputs": [],
   "source": [
    "#c1.add(10,20)"
   ]
  },
  {
   "cell_type": "markdown",
   "id": "a12691a7-7f81-49e2-b814-036f9ecd102c",
   "metadata": {},
   "source": [
    "##### 1 way - using default argument"
   ]
  },
  {
   "cell_type": "code",
   "execution_count": 5,
   "id": "6e039435-13f0-4ea5-88aa-43ae24939499",
   "metadata": {},
   "outputs": [],
   "source": [
    "class Shape:\n",
    "    def area(self,a,b=0):\n",
    "        if b==0:\n",
    "            return 3.14*a*a\n",
    "        else:\n",
    "            return a*b"
   ]
  },
  {
   "cell_type": "code",
   "execution_count": 6,
   "id": "95cfbcf8-de21-41a3-bf48-1414e049a8aa",
   "metadata": {},
   "outputs": [],
   "source": [
    "s = Shape()"
   ]
  },
  {
   "cell_type": "code",
   "execution_count": 8,
   "id": "c71109b3-4458-4227-bd53-dd9df53e6bbf",
   "metadata": {},
   "outputs": [
    {
     "name": "stdout",
     "output_type": "stream",
     "text": [
      "12.56\n",
      "12\n"
     ]
    }
   ],
   "source": [
    "print(s.area(2))\n",
    "print(s.area(3,4))"
   ]
  },
  {
   "cell_type": "markdown",
   "id": "dd701f0c-50e4-4f4a-81e3-b573a6bcb9d8",
   "metadata": {},
   "source": [
    "##### 2 way - using variable length arguments"
   ]
  },
  {
   "cell_type": "code",
   "execution_count": 9,
   "id": "b6117c69-8121-4dd7-9b80-0e8ec84dc2d4",
   "metadata": {},
   "outputs": [],
   "source": [
    "class calculate:\n",
    "    def add(self,*args):\n",
    "        r = 0\n",
    "        for i in args:\n",
    "            r += i\n",
    "        print(\"sum : {}\".format(r))"
   ]
  },
  {
   "cell_type": "code",
   "execution_count": 10,
   "id": "72557129-7d4f-48cb-b903-0c9a0dbe4961",
   "metadata": {},
   "outputs": [],
   "source": [
    "c2 = calculate()"
   ]
  },
  {
   "cell_type": "code",
   "execution_count": 11,
   "id": "823e7586-49fc-4a93-b99f-df31c693d3dd",
   "metadata": {},
   "outputs": [
    {
     "name": "stdout",
     "output_type": "stream",
     "text": [
      "sum : 5\n"
     ]
    }
   ],
   "source": [
    "c2.add(1,4)"
   ]
  },
  {
   "cell_type": "code",
   "execution_count": 12,
   "id": "b092d603-f2bb-4b56-ae1b-46bea02e68be",
   "metadata": {},
   "outputs": [
    {
     "name": "stdout",
     "output_type": "stream",
     "text": [
      "sum : 202\n"
     ]
    }
   ],
   "source": [
    "c2.add(30,25,67,80)"
   ]
  },
  {
   "cell_type": "markdown",
   "id": "2ea76735-a49c-48db-929d-dd1a5dea7514",
   "metadata": {},
   "source": [
    "This is how you can achieve method overloading in python"
   ]
  },
  {
   "cell_type": "markdown",
   "id": "a02612d3-19b1-4e44-b64b-d9e28fa60bad",
   "metadata": {},
   "source": [
    "### Constructor overloading\n",
    "    - Unlike other oop languages like c++ or java, python doesn't support explicit constructor overloading\n",
    "    - Instead, python allows you to achieve constructor overloading using single constructor method and handling \n",
    "      the different cases inside that method."
   ]
  },
  {
   "cell_type": "code",
   "execution_count": 13,
   "id": "0e7feb7d-cf66-4e41-9fc3-50eb4f092741",
   "metadata": {},
   "outputs": [],
   "source": [
    "class Add:\n",
    "    def __init__(self,a,b=None):\n",
    "        if b is None:\n",
    "            self.a = a\n",
    "            self.b = 0\n",
    "        else:\n",
    "            self.a = a\n",
    "            self.b = b\n",
    "    def __str__(self):\n",
    "        return \"a:{},b:{}\".format(self.a,self.b)"
   ]
  },
  {
   "cell_type": "code",
   "execution_count": 14,
   "id": "1b8ffe36-8efb-4f7d-a419-40c37332ae1c",
   "metadata": {},
   "outputs": [],
   "source": [
    "a1 = Add(6)"
   ]
  },
  {
   "cell_type": "code",
   "execution_count": 15,
   "id": "8cd35117-d9ed-492a-a086-8253990fa238",
   "metadata": {},
   "outputs": [
    {
     "name": "stdout",
     "output_type": "stream",
     "text": [
      "a:6,b:0\n"
     ]
    }
   ],
   "source": [
    "print(a1)"
   ]
  },
  {
   "cell_type": "code",
   "execution_count": 16,
   "id": "cbe196d8-1833-4e9f-a79c-945bc417553b",
   "metadata": {},
   "outputs": [
    {
     "name": "stdout",
     "output_type": "stream",
     "text": [
      "a:6,b:7\n"
     ]
    }
   ],
   "source": [
    "a2 = Add(6,7)\n",
    "print(a2)"
   ]
  }
 ],
 "metadata": {
  "kernelspec": {
   "display_name": "Python 3 (ipykernel)",
   "language": "python",
   "name": "python3"
  },
  "language_info": {
   "codemirror_mode": {
    "name": "ipython",
    "version": 3
   },
   "file_extension": ".py",
   "mimetype": "text/x-python",
   "name": "python",
   "nbconvert_exporter": "python",
   "pygments_lexer": "ipython3",
   "version": "3.12.0"
  }
 },
 "nbformat": 4,
 "nbformat_minor": 5
}
