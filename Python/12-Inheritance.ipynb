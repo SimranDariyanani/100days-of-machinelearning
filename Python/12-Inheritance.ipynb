{
 "cells": [
  {
   "cell_type": "markdown",
   "id": "4688c97f-1466-4fdb-9202-9b4a8ae08f8d",
   "metadata": {},
   "source": [
    "### Aggregation"
   ]
  },
  {
   "cell_type": "code",
   "execution_count": 1,
   "id": "ccf0216b-5bca-41f2-a824-ff87d0091ffc",
   "metadata": {},
   "outputs": [],
   "source": [
    "class Customer:\n",
    "    def __init__(self,name,gender,address):\n",
    "        self.name = name\n",
    "        self.gender = gender\n",
    "        self.address = address\n",
    "\n",
    "    def print_address(self):\n",
    "        print(self.address.city,self.address.pin,self.address.state)\n",
    "\n",
    "class Address:\n",
    "    def __init__(self,city,pin,state):\n",
    "        self.city = city\n",
    "        self.pin = pin\n",
    "        self.state = state\n",
    "add1 = Address('rajkot',360001,'Gujrat')\n",
    "cust = Customer('simran','female',add1)"
   ]
  },
  {
   "cell_type": "code",
   "execution_count": 2,
   "id": "fcaaf295-6c1c-4c21-b6ae-60f79223501d",
   "metadata": {},
   "outputs": [
    {
     "name": "stdout",
     "output_type": "stream",
     "text": [
      "rajkot 360001 Gujrat\n"
     ]
    }
   ],
   "source": [
    "cust.print_address()"
   ]
  },
  {
   "cell_type": "markdown",
   "id": "c48996e7-c7a6-46c0-851f-d9988209131f",
   "metadata": {},
   "source": [
    "### Inheritance"
   ]
  },
  {
   "cell_type": "code",
   "execution_count": 3,
   "id": "47b0aa6e-cec2-494e-aefd-11c9c474d878",
   "metadata": {},
   "outputs": [
    {
     "name": "stdout",
     "output_type": "stream",
     "text": [
      "nitish\n",
      "login\n",
      "enroll into the course\n"
     ]
    }
   ],
   "source": [
    "#parent class\n",
    "class User:\n",
    "    def __init__(self):\n",
    "        self.name = 'nitish'\n",
    "    def login(self):\n",
    "        print('login')\n",
    "\n",
    "#child class\n",
    "class Student(User):\n",
    "    def enroll(self):\n",
    "        print('enroll into the course')\n",
    "\n",
    "u = User()\n",
    "s = Student()\n",
    "print(s.name)\n",
    "s.login()\n",
    "s.enroll()"
   ]
  },
  {
   "cell_type": "markdown",
   "id": "6641b4dd-fe2c-4051-b266-d23cd2491c5d",
   "metadata": {},
   "source": [
    "### Types of Inheritance"
   ]
  },
  {
   "cell_type": "markdown",
   "id": "55adc026-3464-4f3e-8b0e-27624e80a8e6",
   "metadata": {},
   "source": [
    "##### Single Inheritance"
   ]
  },
  {
   "cell_type": "code",
   "execution_count": 4,
   "id": "74e4c19d-deec-4f62-8720-0004bd8625d5",
   "metadata": {},
   "outputs": [
    {
     "name": "stdout",
     "output_type": "stream",
     "text": [
      "Inside phone constructor\n",
      "Buying a phone\n"
     ]
    }
   ],
   "source": [
    "class Phone:\n",
    "    def __init__(self,price,brand,camera):\n",
    "        print(\"Inside phone constructor\")\n",
    "        self.price = price\n",
    "        self.brand = brand\n",
    "        self.camera = camera\n",
    "\n",
    "    def buy(self):\n",
    "        print(\"Buying a phone\")\n",
    "\n",
    "class SmartPhone(Phone):\n",
    "    pass\n",
    "\n",
    "SmartPhone(1000,'Apple','13px').buy()"
   ]
  },
  {
   "cell_type": "markdown",
   "id": "663c52ad-a04d-430a-9381-a707cc0ad72d",
   "metadata": {},
   "source": [
    "##### Multilevel Inheritance"
   ]
  },
  {
   "cell_type": "code",
   "execution_count": 5,
   "id": "f463e5a6-c9da-4d52-a10f-be438c0ce457",
   "metadata": {},
   "outputs": [
    {
     "name": "stdout",
     "output_type": "stream",
     "text": [
      "Inside Phone constructor\n",
      "Buying a phone\n",
      "product customer review\n"
     ]
    }
   ],
   "source": [
    "class Product:\n",
    "    def review(self):\n",
    "        print(\"product customer review\")\n",
    "\n",
    "class Phone(Product):\n",
    "    def __init__(self,price,brand,camera):\n",
    "        print(\"Inside Phone constructor\")\n",
    "        self.price = price\n",
    "        self.brand = brand\n",
    "        self.camera = camera\n",
    "    def buy(self):\n",
    "        print(\"Buying a phone\")\n",
    "\n",
    "class SmartPhone(Phone):\n",
    "    pass\n",
    "\n",
    "s = SmartPhone(20000,'Apple',12)\n",
    "s.buy()\n",
    "s.review()"
   ]
  },
  {
   "cell_type": "markdown",
   "id": "b06e36fb-5d2f-43e1-86f4-43747f03768c",
   "metadata": {},
   "source": [
    "##### Hierarchical Inheritance"
   ]
  },
  {
   "cell_type": "code",
   "execution_count": 6,
   "id": "5f644651-7af6-4154-882f-dead2e0d75b3",
   "metadata": {},
   "outputs": [
    {
     "name": "stdout",
     "output_type": "stream",
     "text": [
      "Inside Phone constructor\n",
      "Buying a phone\n",
      "Inside Phone constructor\n",
      "Buying a phone\n"
     ]
    }
   ],
   "source": [
    "class Phone():\n",
    "    def __init__(self,price,brand,camera):\n",
    "        print(\"Inside Phone constructor\")\n",
    "        self.price = price\n",
    "        self.brand = brand\n",
    "        self.camera = camera\n",
    "    def buy(self):\n",
    "        print(\"Buying a phone\")\n",
    "\n",
    "class SmartPhone(Phone):\n",
    "    pass\n",
    "\n",
    "class FeaturePhone(Phone):\n",
    "    pass\n",
    "\n",
    "SmartPhone(1000,'Apple','13px').buy()\n",
    "FeaturePhone(10,'Lava','1px').buy()"
   ]
  },
  {
   "cell_type": "markdown",
   "id": "7ea9418c-b9d0-4f12-8fa0-acb0b0780233",
   "metadata": {},
   "source": [
    "##### Multiple Inheritance"
   ]
  },
  {
   "cell_type": "code",
   "execution_count": 7,
   "id": "4831daae-2f8e-43fe-b115-c9e07572da8e",
   "metadata": {},
   "outputs": [
    {
     "name": "stdout",
     "output_type": "stream",
     "text": [
      "Inside Phone constructor\n",
      "Buying a phone\n",
      "Customer review\n"
     ]
    }
   ],
   "source": [
    "class Phone():\n",
    "    def __init__(self,price,brand,camera):\n",
    "        print(\"Inside Phone constructor\")\n",
    "        self.price = price\n",
    "        self.brand = brand\n",
    "        self.camera = camera\n",
    "    def buy(self):\n",
    "        print(\"Buying a phone\")\n",
    "\n",
    "class Product:\n",
    "    def review(self):\n",
    "        print(\"Customer review\")\n",
    "\n",
    "class SmartPhone(Phone,Product):\n",
    "    pass\n",
    "\n",
    "s =  SmartPhone(20000,'Apple',12)\n",
    "\n",
    "s.buy()\n",
    "s.review()"
   ]
  },
  {
   "cell_type": "markdown",
   "id": "4c666efa-5f73-41d6-bd4e-8253aa706836",
   "metadata": {},
   "source": [
    "##### Hybrid Inheritance"
   ]
  },
  {
   "cell_type": "code",
   "execution_count": 8,
   "id": "bf153c5a-9261-4067-8133-3f3914e9f1df",
   "metadata": {},
   "outputs": [
    {
     "name": "stdout",
     "output_type": "stream",
     "text": [
      "display from class D\n"
     ]
    }
   ],
   "source": [
    "class A:\n",
    "    def display(self):\n",
    "        print('display from class A')\n",
    "class B(A):\n",
    "    def display(self):\n",
    "        print('display from class B')\n",
    "class C:\n",
    "    def display(self):\n",
    "        print('display from class C')\n",
    "class D(B,C):\n",
    "    def display(self):\n",
    "        print('display from class D')\n",
    "\n",
    "d1 = D()\n",
    "d1.display()"
   ]
  },
  {
   "cell_type": "markdown",
   "id": "c83bf4b9-c65d-45ea-9445-6e0afc32eaea",
   "metadata": {},
   "source": [
    "### The Diamond Problem"
   ]
  },
  {
   "cell_type": "code",
   "execution_count": 9,
   "id": "9492f6b6-cb06-4a3a-a181-a7651d97d4e1",
   "metadata": {},
   "outputs": [
    {
     "name": "stdout",
     "output_type": "stream",
     "text": [
      "display from class A\n"
     ]
    }
   ],
   "source": [
    "class A:\n",
    "    def display(self):\n",
    "        print('display from class A')\n",
    "class B(A):\n",
    "    pass\n",
    "#    #def display(self):\n",
    "#        print('display from class B')\n",
    "class C(A):\n",
    "    def show(self):\n",
    "        print('hii from c class')\n",
    "#    def display(self):\n",
    "#        print('display from class C')\n",
    "class D(B,C):\n",
    "    pass\n",
    "\n",
    "d1 = D()\n",
    "d1.display()"
   ]
  },
  {
   "cell_type": "code",
   "execution_count": 10,
   "id": "930da6e8-adab-4512-b5ce-23721c35edd1",
   "metadata": {},
   "outputs": [
    {
     "name": "stdout",
     "output_type": "stream",
     "text": [
      "(<class '__main__.D'>, <class '__main__.B'>, <class '__main__.C'>, <class '__main__.A'>, <class 'object'>)\n"
     ]
    }
   ],
   "source": [
    "print(D.__mro__)"
   ]
  }
 ],
 "metadata": {
  "kernelspec": {
   "display_name": "Python 3 (ipykernel)",
   "language": "python",
   "name": "python3"
  },
  "language_info": {
   "codemirror_mode": {
    "name": "ipython",
    "version": 3
   },
   "file_extension": ".py",
   "mimetype": "text/x-python",
   "name": "python",
   "nbconvert_exporter": "python",
   "pygments_lexer": "ipython3",
   "version": "3.12.0"
  }
 },
 "nbformat": 4,
 "nbformat_minor": 5
}
