{
 "cells": [
  {
   "cell_type": "markdown",
   "id": "9fdffb95-618a-4bf9-942b-3a1eac3153ef",
   "metadata": {},
   "source": [
    "### Q1 :- Print the given strings as per stated format.\n",
    "\n",
    "**Given strings**:\n",
    "```\n",
    "\"Data\" \"Science\" \"Mentorship\" \"Program\"\n",
    "\"By\" \"CampusX\"\n",
    "```\n",
    "**Output**:\n",
    "```\n",
    "Data-Science-Mentorship-Program-started-By-CampusX\n",
    "```\n",
    "\n",
    "Concept- [Seperator and End]"
   ]
  },
  {
   "cell_type": "code",
   "execution_count": 2,
   "id": "2e3f51f6-2d4c-45df-a136-e9906f60325f",
   "metadata": {},
   "outputs": [
    {
     "name": "stdout",
     "output_type": "stream",
     "text": [
      "Data-science-Mentorship-program-By-campusx "
     ]
    }
   ],
   "source": [
    "print(\"Data\",\"science\",\"Mentorship\",\"program\",sep='-',end='-')\n",
    "print(\"By\",\"campusx\",sep='-',end=' ')"
   ]
  },
  {
   "cell_type": "markdown",
   "id": "4d60f09e-c5f0-4384-8330-b6e2b0ec617f",
   "metadata": {},
   "source": [
    "### Q2:- Write a program that will convert celsius value to fahrenheit."
   ]
  },
  {
   "cell_type": "code",
   "execution_count": 3,
   "id": "444b8123-a60c-4a83-bd55-dad582d7c49d",
   "metadata": {},
   "outputs": [
    {
     "name": "stdin",
     "output_type": "stream",
     "text": [
      "Enter Celsius: 10\n"
     ]
    },
    {
     "name": "stdout",
     "output_type": "stream",
     "text": [
      "Fahrenheit: 50.0\n"
     ]
    }
   ],
   "source": [
    "c = int(input(\"Enter Celsius:\"))\n",
    "f = (c*9/5)+32\n",
    "print(\"Fahrenheit:\",f)"
   ]
  },
  {
   "cell_type": "markdown",
   "id": "a68c12fd-5039-40bc-a5d8-0fd506ec0704",
   "metadata": {},
   "source": [
    "### Q3:- Take 2 numbers as input from the user.Write a program to swap the numbers without using any special python syntax."
   ]
  },
  {
   "cell_type": "code",
   "execution_count": 4,
   "id": "24ca9a70-20ef-48a6-bed8-55f8c8172b6d",
   "metadata": {},
   "outputs": [
    {
     "name": "stdin",
     "output_type": "stream",
     "text": [
      "enter a: 5\n",
      "enter b: 6\n"
     ]
    },
    {
     "name": "stdout",
     "output_type": "stream",
     "text": [
      "a is: 6\n",
      "b is: 5\n"
     ]
    }
   ],
   "source": [
    "a,b = int(input('enter a:')),int(input(\"enter b:\"))\n",
    "c = a\n",
    "a = b\n",
    "b = c\n",
    "print(\"a is:\",a)\n",
    "print(\"b is:\",b)"
   ]
  },
  {
   "cell_type": "markdown",
   "id": "e1d22030-afb4-4156-91ae-7a900c541e54",
   "metadata": {},
   "source": [
    "### Q4:- Write a program to find the euclidean distance between two coordinates.Take both the coordinates from the user as input."
   ]
  },
  {
   "cell_type": "code",
   "execution_count": 25,
   "id": "2e7812ce-7d37-4fd9-8960-c52a83d31242",
   "metadata": {},
   "outputs": [
    {
     "name": "stdin",
     "output_type": "stream",
     "text": [
      "enter x1: 4\n",
      "enter x2: 3\n",
      "enter y1: 2\n",
      "enter y2: 1\n"
     ]
    },
    {
     "name": "stdout",
     "output_type": "stream",
     "text": [
      "euclidean distance: 1.4142135623730951\n"
     ]
    }
   ],
   "source": [
    "x1,x2,y1,y2 = int(input('enter x1:')),int(input(\"enter x2:\")),int(input('enter y1:')),int(input(\"enter y2:\"))\n",
    "ed = ((x2-x1)**2 + (y2-y1)**2)**0.5\n",
    "print(\"euclidean distance:\",ed)"
   ]
  },
  {
   "cell_type": "markdown",
   "id": "53f4a27d-4958-4fc0-8a98-45f2d2d78c4d",
   "metadata": {},
   "source": [
    "### Q5:- Write a program to find the simple interest when the value of principle,rate of interest and time period is provided by the user."
   ]
  },
  {
   "cell_type": "code",
   "execution_count": 29,
   "id": "1cd1a630-eba5-49b6-860c-d88f08b2c96d",
   "metadata": {},
   "outputs": [
    {
     "name": "stdin",
     "output_type": "stream",
     "text": [
      "enter value: 1000\n",
      "enter rate of interest: 5\n",
      "enter time period: 3\n"
     ]
    },
    {
     "name": "stdout",
     "output_type": "stream",
     "text": [
      "simple interest: 150.0\n"
     ]
    }
   ],
   "source": [
    "p,r,t = float(input(\"enter value:\")),float(input(\"enter rate of interest:\")),float(input(\"enter time period:\"))\n",
    "SI = (p*r*t)/100\n",
    "print(\"simple interest:\",SI)"
   ]
  },
  {
   "cell_type": "markdown",
   "id": "694821de-9cd1-4d97-8709-d894626f1af4",
   "metadata": {},
   "source": [
    "### Q7:- Write a program to find the sum of squares of first n natural numbers where n will be provided by the user."
   ]
  },
  {
   "cell_type": "code",
   "execution_count": 36,
   "id": "dcbf1227-65b4-4b6e-bdd3-f8f7d8a09cdd",
   "metadata": {},
   "outputs": [
    {
     "name": "stdin",
     "output_type": "stream",
     "text": [
      "enter number: 4\n"
     ]
    },
    {
     "name": "stdout",
     "output_type": "stream",
     "text": [
      "sum of squares of 4 number is:30\n"
     ]
    }
   ],
   "source": [
    "n = int(input(\"enter number:\"))\n",
    "sum = 0\n",
    "for i in range(1,n+1):\n",
    "    sum = sum + (i*i)\n",
    "print(f'sum of squares of {n} number is:{sum}')"
   ]
  },
  {
   "cell_type": "markdown",
   "id": "291d2a35-adaf-4ae2-a476-99fba77b7fbb",
   "metadata": {},
   "source": [
    "### Q8:- Given the first 2 terms of an Arithmetic Series.Find the Nth term of the series. Assume all inputs are provided by the user."
   ]
  },
  {
   "cell_type": "code",
   "execution_count": 1,
   "id": "59a56a5b-dbeb-4e24-bc32-778153f5d411",
   "metadata": {},
   "outputs": [
    {
     "name": "stdin",
     "output_type": "stream",
     "text": [
      "Enter first term: 1\n",
      "Enter second term: 3\n",
      "Enter nth term number: 3\n"
     ]
    },
    {
     "name": "stdout",
     "output_type": "stream",
     "text": [
      "Your nth term is: 5\n"
     ]
    }
   ],
   "source": [
    "a = int(input(\"Enter first term:\"))\n",
    "t = int(input(\"Enter second term:\"))\n",
    "n = int(input(\"Enter nth term number:\"))\n",
    "d = t-a\n",
    "tn = a + (n-1)*d\n",
    "print(\"Your nth term is:\",tn)"
   ]
  },
  {
   "cell_type": "markdown",
   "id": "a0351993-b62e-4b62-9eb4-a95e0b75e528",
   "metadata": {},
   "source": [
    "### Q9:- Given 2 fractions, find the sum of those 2 fractions.Take the numerator and denominator values of the fractions from the user."
   ]
  },
  {
   "cell_type": "code",
   "execution_count": 2,
   "id": "13162768-a50d-4ae7-af76-79bdaf737bce",
   "metadata": {},
   "outputs": [
    {
     "name": "stdin",
     "output_type": "stream",
     "text": [
      "Enter first numerator: 5\n",
      "Enter first denominator: 6\n",
      "Enter second numerator: 4\n",
      "Enter second denominator: 3\n"
     ]
    },
    {
     "name": "stdout",
     "output_type": "stream",
     "text": [
      "Sum of Fraction is 2.1666666666666665.\n"
     ]
    }
   ],
   "source": [
    "n1 = int(input(\"Enter first numerator:\"))\n",
    "d1 = int(input(\"Enter first denominator:\"))\n",
    "n2 = int(input(\"Enter second numerator:\"))\n",
    "d2 = int(input(\"Enter second denominator:\"))\n",
    "num = (n1*d2) + (n2*d1)\n",
    "den = d1*d2\n",
    "print(f'Sum of Fraction is {num/den}.')"
   ]
  },
  {
   "cell_type": "markdown",
   "id": "1ada52f0-37c6-487a-a236-c208a3a27097",
   "metadata": {},
   "source": [
    "### Q10:- Write a program that will tell the number of dogs and chicken are there when the user will provide the value of total heads and legs.\n",
    "\n",
    "For example:\n",
    "Input:\n",
    "heads -> 4\n",
    "legs -> 12\n",
    "<br>\n",
    "Output:\n",
    "dogs -> 2\n",
    "chicken -> 2\n"
   ]
  },
  {
   "cell_type": "code",
   "execution_count": 7,
   "id": "6cf7eb5f-2b7d-4c3c-bf9f-bfc9b0479186",
   "metadata": {},
   "outputs": [
    {
     "name": "stdin",
     "output_type": "stream",
     "text": [
      "Enter heads: 7\n",
      "Enter legs: 22\n"
     ]
    },
    {
     "name": "stdout",
     "output_type": "stream",
     "text": [
      "dogs:4 , chickens:3\n"
     ]
    }
   ],
   "source": [
    "heads = int(input(\"Enter heads:\"))\n",
    "legs = int(input(\"Enter legs:\"))\n",
    "\n",
    "if heads > legs//4:\n",
    "    dogs = legs//4 -1\n",
    "    chickens = heads-dogs\n",
    "else:\n",
    "    dogs = legs//4\n",
    "    chickens = (legs%4)//2\n",
    "\n",
    "print(f'dogs:{dogs} , chickens:{chickens}')"
   ]
  },
  {
   "cell_type": "markdown",
   "id": "b0102737-a167-4b29-8c0a-578c8bb0fc81",
   "metadata": {},
   "source": [
    "### Q11:- Given the height, width and breadth of a milk tank, you have to find out how many glasses of milk can be obtained? Assume all the inputs are provided by the user.\n",
    "\n",
    "\n",
    "\n",
    "Input:<br>\n",
    "Dimensions of the milk tank<br>\n",
    "H = 20cm, L = 20cm, B = 20cm\n",
    "<br><br>\n",
    "Dimensions of the glass<br>\n",
    "h = 3cm, r = 1cm"
   ]
  },
  {
   "cell_type": "code",
   "execution_count": null,
   "id": "23a0b5f4-00e7-4617-a389-2b31c9ac5745",
   "metadata": {},
   "outputs": [],
   "source": [
    "l, b, h = int(input(\"Enter L :\")), int(input(\"Enter B :\")), int(input(\"Enter H :\"))\n",
    "\n",
    "hg, rg = int(input(\"Enter Hg:\")), int(input(\"Enter Rg :\"))\n",
    "\n",
    "volume_of_tank = l*h*b\n",
    "volume_of_glass = (3.14)*(rg**2)*hg\n",
    "print(f'NO of glassess are {volume_of_tank/volume_of_glass}')"
   ]
  },
  {
   "cell_type": "code",
   "execution_count": null,
   "id": "4765c74b-63f4-4efb-ad3e-79f00ba52ee7",
   "metadata": {},
   "outputs": [],
   "source": []
  }
 ],
 "metadata": {
  "kernelspec": {
   "display_name": "Python 3 (ipykernel)",
   "language": "python",
   "name": "python3"
  },
  "language_info": {
   "codemirror_mode": {
    "name": "ipython",
    "version": 3
   },
   "file_extension": ".py",
   "mimetype": "text/x-python",
   "name": "python",
   "nbconvert_exporter": "python",
   "pygments_lexer": "ipython3",
   "version": "3.12.0"
  }
 },
 "nbformat": 4,
 "nbformat_minor": 5
}
