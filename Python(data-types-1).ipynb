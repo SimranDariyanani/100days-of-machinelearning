{
 "cells": [
  {
   "cell_type": "markdown",
   "id": "f69141f7-6888-4b07-8017-55f10bc3ce05",
   "metadata": {},
   "source": [
    "###   Day-01 Python  Data Types"
   ]
  },
  {
   "cell_type": "raw",
   "id": "9855954e-e605-40d8-86ac-838794fac65f",
   "metadata": {},
   "source": [
    "Numeric data types: int, float, complex.\n",
    "String data types: str.\n",
    "Sequence types: list, tuple, range.\n",
    "Binary types: bytes, bytearray, memoryview.\n",
    "Mapping data type: dict.\n",
    "Boolean type: bool.\n",
    "Set data types: set, frozenset"
   ]
  },
  {
   "cell_type": "markdown",
   "id": "b8165ea5-2164-4891-9975-b750927b16ff",
   "metadata": {},
   "source": [
    "### List"
   ]
  },
  {
   "cell_type": "markdown",
   "id": "3a2b13c8-8145-427f-8ae5-62e3f537cbbe",
   "metadata": {},
   "source": [
    "- Lists are one of 4 built-in data types in Python used to store collections of data, \n",
    "  the other 3 are Tuple, Set, and Dictionary.\n",
    "- lists are used to store multiple data at once\n",
    "- In python , lists are ordered,indexed and is also allowed duplicate values .(index starts with 0.)\n",
    "- lists are represented by using [].\n",
    "- list is used to store homogeneous as well as hetrogeneous elements."
   ]
  },
  {
   "cell_type": "code",
   "execution_count": 1,
   "id": "0ffce844-d631-4c9f-abe7-15ffe3ca0c39",
   "metadata": {},
   "outputs": [
    {
     "data": {
      "text/plain": [
       "[10, 20, 30, 40, 50, 60]"
      ]
     },
     "execution_count": 1,
     "metadata": {},
     "output_type": "execute_result"
    }
   ],
   "source": [
    "#list creation\n",
    "l1 = [10,20,30,40,50,60]\n",
    "l1"
   ]
  },
  {
   "cell_type": "markdown",
   "id": "a56d6ea4-cc5d-4f8a-8604-cbd0990eeed2",
   "metadata": {},
   "source": [
    "Slicing in list"
   ]
  },
  {
   "cell_type": "markdown",
   "id": "39b0dd80-f485-43cc-9e84-4eca0c4d83d9",
   "metadata": {},
   "source": [
    "It is possible to access a portion of a list using the slicing operator :"
   ]
  },
  {
   "cell_type": "code",
   "execution_count": 2,
   "id": "f4ea5908-e6e5-4206-83a8-9bf3cecc53e5",
   "metadata": {},
   "outputs": [
    {
     "name": "stdout",
     "output_type": "stream",
     "text": [
      "[30, 40, 50]\n"
     ]
    }
   ],
   "source": [
    "print(l1[2:5]) "
   ]
  },
  {
   "cell_type": "markdown",
   "id": "eb826718-75cb-4173-859f-f8e86cdf1c0d",
   "metadata": {},
   "source": [
    "- Here, element at 2nd,3nd and 4th position is displayed.\n",
    "- Python allows negative indexing for it's sequences.\n",
    "- The index of -1 refers to the last item"
   ]
  },
  {
   "cell_type": "code",
   "execution_count": 3,
   "id": "048985cd-130b-4c8f-a08f-1c765479876c",
   "metadata": {},
   "outputs": [
    {
     "data": {
      "text/plain": [
       "60"
      ]
     },
     "execution_count": 3,
     "metadata": {},
     "output_type": "execute_result"
    }
   ],
   "source": [
    "l1[-1]"
   ]
  },
  {
   "cell_type": "code",
   "execution_count": 4,
   "id": "b154b33b-ad6c-47d3-9dff-418e65a7c930",
   "metadata": {},
   "outputs": [
    {
     "data": {
      "text/plain": [
       "[10, 20, 30, 40, 50, 60]"
      ]
     },
     "execution_count": 4,
     "metadata": {},
     "output_type": "execute_result"
    }
   ],
   "source": [
    "l1[:]"
   ]
  },
  {
   "cell_type": "code",
   "execution_count": 5,
   "id": "3fa66d08-e778-4d08-a305-bf58420ecbfd",
   "metadata": {},
   "outputs": [
    {
     "data": {
      "text/plain": [
       "[50, 60]"
      ]
     },
     "execution_count": 5,
     "metadata": {},
     "output_type": "execute_result"
    }
   ],
   "source": [
    "l1[4:]"
   ]
  },
  {
   "cell_type": "markdown",
   "id": "f4066927-90a2-4d01-a8fc-17e251022e49",
   "metadata": {},
   "source": [
    "Change list items"
   ]
  },
  {
   "cell_type": "markdown",
   "id": "573a5b42-ac7c-484d-9437-6705d81c03b8",
   "metadata": {},
   "source": [
    "Lists are mutable in python. Meaning lists are changeable and we can change items of a lists by using = operator"
   ]
  },
  {
   "cell_type": "code",
   "execution_count": 6,
   "id": "90ecadf1-a9c2-48f7-9800-ce3b12bb640e",
   "metadata": {},
   "outputs": [
    {
     "data": {
      "text/plain": [
       "['python', 'C', 'java']"
      ]
     },
     "execution_count": 6,
     "metadata": {},
     "output_type": "execute_result"
    }
   ],
   "source": [
    "languages = ['python','swift','java']\n",
    "languages[1] = 'C'\n",
    "languages"
   ]
  },
  {
   "cell_type": "markdown",
   "id": "3ece0af9-67fe-4a2b-8c1b-b76998aacee1",
   "metadata": {},
   "source": [
    "Iterating through a list"
   ]
  },
  {
   "cell_type": "markdown",
   "id": "04e4e923-2e07-4dc8-a3d7-1961655b1346",
   "metadata": {},
   "source": [
    "we can use for loop to iterate over the elements of a list"
   ]
  },
  {
   "cell_type": "code",
   "execution_count": 7,
   "id": "2cf93af4-c5cc-4d50-b081-b23282a5dd21",
   "metadata": {},
   "outputs": [
    {
     "name": "stdout",
     "output_type": "stream",
     "text": [
      "python\n",
      "C\n",
      "java\n"
     ]
    }
   ],
   "source": [
    "for i in languages:\n",
    "    print(i)"
   ]
  },
  {
   "cell_type": "markdown",
   "id": "e3b6e767-44d4-4caf-9779-08cbeb127496",
   "metadata": {},
   "source": [
    "LIST METHODS"
   ]
  },
  {
   "cell_type": "code",
   "execution_count": 8,
   "id": "20888c95-6966-4da6-b4d3-e709551d8238",
   "metadata": {},
   "outputs": [
    {
     "data": {
      "text/plain": [
       "['a', 'b', 'c', 'd']"
      ]
     },
     "execution_count": 8,
     "metadata": {},
     "output_type": "execute_result"
    }
   ],
   "source": [
    "s = ['a','b','c']\n",
    "s.append('d')   #adds an element\n",
    "s"
   ]
  },
  {
   "cell_type": "code",
   "execution_count": 9,
   "id": "7d70b12e-25e5-4e9f-8866-e377021c0128",
   "metadata": {},
   "outputs": [
    {
     "data": {
      "text/plain": [
       "['a', 'b', 'c', 'd', ['e', 'f']]"
      ]
     },
     "execution_count": 9,
     "metadata": {},
     "output_type": "execute_result"
    }
   ],
   "source": [
    "s1 = ['e','f']\n",
    "s.append(s1) #adding list to a list\n",
    "s"
   ]
  },
  {
   "cell_type": "code",
   "execution_count": 10,
   "id": "73e771f0-8983-47d4-bae0-79d08b426cc4",
   "metadata": {},
   "outputs": [
    {
     "data": {
      "text/plain": [
       "['a', 'b', 'c', 'd', 'e']"
      ]
     },
     "execution_count": 10,
     "metadata": {},
     "output_type": "execute_result"
    }
   ],
   "source": [
    "s1=['a','b','c']\n",
    "s2=['d','e']\n",
    "s1.extend(s2) #adds all the element of a list at end of the list as separate element\n",
    "s1"
   ]
  },
  {
   "cell_type": "markdown",
   "id": "8d6e3dfb-b9e7-47eb-baca-2177a9d3d983",
   "metadata": {},
   "source": [
    "other way to extend list"
   ]
  },
  {
   "cell_type": "code",
   "execution_count": 11,
   "id": "db2a75cc-c8a4-4d1d-982d-1ccaa0a47c81",
   "metadata": {},
   "outputs": [
    {
     "data": {
      "text/plain": [
       "[1, 2, 3, 4]"
      ]
     },
     "execution_count": 11,
     "metadata": {},
     "output_type": "execute_result"
    }
   ],
   "source": [
    "a=[1,2]\n",
    "b=[3,4]\n",
    "a = a+b\n",
    "a"
   ]
  },
  {
   "cell_type": "code",
   "execution_count": 12,
   "id": "2a8d13b6-4afa-43be-b91c-2d0d743a663d",
   "metadata": {},
   "outputs": [
    {
     "name": "stdout",
     "output_type": "stream",
     "text": [
      "[1, 3, 2]\n"
     ]
    }
   ],
   "source": [
    "a=[1,2]\n",
    "a.insert(1,3) \n",
    "print(a)"
   ]
  },
  {
   "cell_type": "code",
   "execution_count": 13,
   "id": "76cdc5a5-5ba4-4531-9cd2-abf84f7e436f",
   "metadata": {},
   "outputs": [
    {
     "data": {
      "text/plain": [
       "[1, 3, 4, 5, 6]"
      ]
     },
     "execution_count": 13,
     "metadata": {},
     "output_type": "execute_result"
    }
   ],
   "source": [
    "a = [1,2,3,4,5,6]\n",
    "a.remove(2)\n",
    "a"
   ]
  },
  {
   "cell_type": "code",
   "execution_count": 14,
   "id": "66a411de-7666-48d2-aff8-73268fc4fb86",
   "metadata": {},
   "outputs": [
    {
     "data": {
      "text/plain": [
       "6"
      ]
     },
     "execution_count": 14,
     "metadata": {},
     "output_type": "execute_result"
    }
   ],
   "source": [
    "a.pop()"
   ]
  },
  {
   "cell_type": "code",
   "execution_count": 15,
   "id": "a5e5834e-edf6-4783-8dd3-47fcfdb0e57d",
   "metadata": {},
   "outputs": [
    {
     "data": {
      "text/plain": [
       "[1, 3, 4, 5]"
      ]
     },
     "execution_count": 15,
     "metadata": {},
     "output_type": "execute_result"
    }
   ],
   "source": [
    "a"
   ]
  },
  {
   "cell_type": "code",
   "execution_count": 16,
   "id": "65c40858-1d68-435b-aaf1-4826ad0f6795",
   "metadata": {},
   "outputs": [
    {
     "data": {
      "text/plain": [
       "5"
      ]
     },
     "execution_count": 16,
     "metadata": {},
     "output_type": "execute_result"
    }
   ],
   "source": [
    "a.pop(3)"
   ]
  },
  {
   "cell_type": "code",
   "execution_count": 17,
   "id": "be0a718d-c147-4af4-9540-aae7f7c5a513",
   "metadata": {},
   "outputs": [
    {
     "data": {
      "text/plain": [
       "2"
      ]
     },
     "execution_count": 17,
     "metadata": {},
     "output_type": "execute_result"
    }
   ],
   "source": [
    "a=[1,2,3,2,4,5,3]\n",
    "a.count(2)"
   ]
  },
  {
   "cell_type": "code",
   "execution_count": 18,
   "id": "49c70855-7588-4c06-a2c4-3c442ad5809e",
   "metadata": {},
   "outputs": [
    {
     "data": {
      "text/plain": [
       "[3, 5, 4, 2, 3, 2, 1]"
      ]
     },
     "execution_count": 18,
     "metadata": {},
     "output_type": "execute_result"
    }
   ],
   "source": [
    "a.reverse()\n",
    "a"
   ]
  },
  {
   "cell_type": "code",
   "execution_count": 19,
   "id": "0213694e-da21-4d0a-bc25-b11403bbac45",
   "metadata": {},
   "outputs": [
    {
     "data": {
      "text/plain": [
       "[1, 2, 3, 2, 4, 5, 3]"
      ]
     },
     "execution_count": 19,
     "metadata": {},
     "output_type": "execute_result"
    }
   ],
   "source": [
    "a[::-1] #reverse a list"
   ]
  },
  {
   "cell_type": "code",
   "execution_count": 20,
   "id": "7cb4cab7-7087-4a57-a952-543c7697b3fa",
   "metadata": {},
   "outputs": [
    {
     "data": {
      "text/plain": [
       "[1, 2, 3, 5]"
      ]
     },
     "execution_count": 20,
     "metadata": {},
     "output_type": "execute_result"
    }
   ],
   "source": [
    "a = [3,1,5,2]\n",
    "a.sort()\n",
    "a"
   ]
  },
  {
   "cell_type": "code",
   "execution_count": 21,
   "id": "c921dc63-1e97-4775-88ec-b7f70b9809b9",
   "metadata": {},
   "outputs": [
    {
     "data": {
      "text/plain": [
       "1"
      ]
     },
     "execution_count": 21,
     "metadata": {},
     "output_type": "execute_result"
    }
   ],
   "source": [
    "min(a)"
   ]
  },
  {
   "cell_type": "code",
   "execution_count": 22,
   "id": "5847c5ca-d375-446b-b792-6213b8d0c1ce",
   "metadata": {},
   "outputs": [
    {
     "data": {
      "text/plain": [
       "5"
      ]
     },
     "execution_count": 22,
     "metadata": {},
     "output_type": "execute_result"
    }
   ],
   "source": [
    "max(a)"
   ]
  },
  {
   "cell_type": "code",
   "execution_count": 23,
   "id": "9961cc29-16c9-4f35-877a-f7a1a0050d71",
   "metadata": {},
   "outputs": [
    {
     "name": "stdout",
     "output_type": "stream",
     "text": [
      "[2, 3, 5]\n"
     ]
    }
   ],
   "source": [
    "a = [2,3,5]\n",
    "b = a.copy()\n",
    "print(b)"
   ]
  },
  {
   "cell_type": "code",
   "execution_count": 24,
   "id": "03f2f578-4f7f-4cf1-9b5a-dae8a9065307",
   "metadata": {},
   "outputs": [
    {
     "data": {
      "text/plain": [
       "[]"
      ]
     },
     "execution_count": 24,
     "metadata": {},
     "output_type": "execute_result"
    }
   ],
   "source": [
    "a=[1,2,3]\n",
    "a.clear()\n",
    "a"
   ]
  },
  {
   "cell_type": "code",
   "execution_count": 25,
   "id": "7cb57236-7306-48be-9631-f3eee109a7fa",
   "metadata": {},
   "outputs": [],
   "source": [
    "#b=[4,5]\n",
    "#del b\n",
    "#print(b)"
   ]
  },
  {
   "cell_type": "markdown",
   "id": "e5183795-c932-45ad-b227-b62e480da4d1",
   "metadata": {},
   "source": [
    "### Tuple"
   ]
  },
  {
   "cell_type": "code",
   "execution_count": 26,
   "id": "1adb1af0-b0fc-4db0-8b3a-b654cd4bc43a",
   "metadata": {},
   "outputs": [],
   "source": [
    "#tuple creation or tuple packing\n",
    "t1 = (22,33,5)\n",
    "t2 = (22,23.5,'hi')\n",
    "t3 = (55,(6,'hi'),67)\n",
    "t4 = (55,[6,7],66)\n",
    "t5=(1,)"
   ]
  },
  {
   "cell_type": "code",
   "execution_count": 27,
   "id": "60ece14b-0f16-43fb-a98b-e3b80c092e6a",
   "metadata": {},
   "outputs": [
    {
     "data": {
      "text/plain": [
       "22"
      ]
     },
     "execution_count": 27,
     "metadata": {},
     "output_type": "execute_result"
    }
   ],
   "source": [
    "#tuple unpacking\n",
    "(n1,n2,n3) = t1\n",
    "n1"
   ]
  },
  {
   "cell_type": "code",
   "execution_count": 28,
   "id": "7eb81be9-4c39-480d-b0da-495abd437542",
   "metadata": {},
   "outputs": [
    {
     "data": {
      "text/plain": [
       "33"
      ]
     },
     "execution_count": 28,
     "metadata": {},
     "output_type": "execute_result"
    }
   ],
   "source": [
    "n2"
   ]
  },
  {
   "cell_type": "code",
   "execution_count": 29,
   "id": "fab318d1-031b-47e9-8f5b-0fbbc82fc88e",
   "metadata": {},
   "outputs": [
    {
     "data": {
      "text/plain": [
       "5"
      ]
     },
     "execution_count": 29,
     "metadata": {},
     "output_type": "execute_result"
    }
   ],
   "source": [
    "n3"
   ]
  },
  {
   "cell_type": "code",
   "execution_count": 30,
   "id": "39e305d0-c822-43e7-a148-a1396cacaad4",
   "metadata": {},
   "outputs": [
    {
     "data": {
      "text/plain": [
       "3"
      ]
     },
     "execution_count": 30,
     "metadata": {},
     "output_type": "execute_result"
    }
   ],
   "source": [
    "len(t2)"
   ]
  },
  {
   "cell_type": "code",
   "execution_count": 31,
   "id": "24115aab-5154-47e1-b986-5cd128da7803",
   "metadata": {},
   "outputs": [
    {
     "data": {
      "text/plain": [
       "(22, 23.5, 'hi')"
      ]
     },
     "execution_count": 31,
     "metadata": {},
     "output_type": "execute_result"
    }
   ],
   "source": [
    "t2"
   ]
  },
  {
   "cell_type": "code",
   "execution_count": 32,
   "id": "1fd81cd3-a7e3-4028-905d-c0ace83deaa2",
   "metadata": {},
   "outputs": [
    {
     "data": {
      "text/plain": [
       "1"
      ]
     },
     "execution_count": 32,
     "metadata": {},
     "output_type": "execute_result"
    }
   ],
   "source": [
    "t2.count(22)"
   ]
  },
  {
   "cell_type": "code",
   "execution_count": 33,
   "id": "fc4cfe83-98f8-411a-9227-3ab9eeb8b274",
   "metadata": {},
   "outputs": [
    {
     "name": "stdout",
     "output_type": "stream",
     "text": [
      "2\n"
     ]
    }
   ],
   "source": [
    "t1=(22,3,45,4,20.5,3)\n",
    "print(t1.index(45))"
   ]
  },
  {
   "cell_type": "markdown",
   "id": "03bd125c-bbcb-41c6-ae48-30b0c4c7aa08",
   "metadata": {},
   "source": [
    "### Set"
   ]
  },
  {
   "cell_type": "markdown",
   "id": "29757177-a6a0-4e08-99ee-54d7b6f7ccf2",
   "metadata": {},
   "source": [
    "- A set is a collection of unique data , i.e. elements of set cannot be duplicate\n",
    "- Set is Mutable and set also don't have any particular order\n",
    "- since they are unordered , indexing has no meaning\n",
    "- set is represented by using {}."
   ]
  },
  {
   "cell_type": "markdown",
   "id": "5b110500-d34e-416e-a353-7a190541f061",
   "metadata": {},
   "source": [
    "set functions"
   ]
  },
  {
   "cell_type": "code",
   "execution_count": 35,
   "id": "f91347ce-bbc9-472d-9655-3a0633554c8a",
   "metadata": {},
   "outputs": [
    {
     "data": {
      "text/plain": [
       "{1, 2, 3}"
      ]
     },
     "execution_count": 35,
     "metadata": {},
     "output_type": "execute_result"
    }
   ],
   "source": [
    "numbers={1,2,3}\n",
    "numbers"
   ]
  },
  {
   "cell_type": "code",
   "execution_count": 36,
   "id": "526d9b2c-f04a-4519-a856-07f45df699ee",
   "metadata": {},
   "outputs": [
    {
     "data": {
      "text/plain": [
       "set"
      ]
     },
     "execution_count": 36,
     "metadata": {},
     "output_type": "execute_result"
    }
   ],
   "source": [
    "type(numbers)"
   ]
  },
  {
   "cell_type": "code",
   "execution_count": 37,
   "id": "a625a05d-bfe8-4a92-8a84-e466adb3db35",
   "metadata": {},
   "outputs": [
    {
     "data": {
      "text/plain": [
       "{1, 2, 3, 32}"
      ]
     },
     "execution_count": 37,
     "metadata": {},
     "output_type": "execute_result"
    }
   ],
   "source": [
    "numbers.add(32)\n",
    "numbers"
   ]
  },
  {
   "cell_type": "code",
   "execution_count": 39,
   "id": "b4e8311f-2a5c-4660-9856-0a2a0c18fa59",
   "metadata": {},
   "outputs": [
    {
     "data": {
      "text/plain": [
       "{1, 2, 3, 5, 6, 7, 8, 32}"
      ]
     },
     "execution_count": 39,
     "metadata": {},
     "output_type": "execute_result"
    }
   ],
   "source": [
    "l1=[5,6,7,8]\n",
    "numbers.update(l1)\n",
    "numbers"
   ]
  },
  {
   "cell_type": "code",
   "execution_count": 40,
   "id": "ed768324-461d-4475-a336-75c7dfa5aa87",
   "metadata": {},
   "outputs": [
    {
     "data": {
      "text/plain": [
       "{1, 2, 3, 6, 7, 8, 32}"
      ]
     },
     "execution_count": 40,
     "metadata": {},
     "output_type": "execute_result"
    }
   ],
   "source": [
    "numbers.discard(5)\n",
    "numbers"
   ]
  },
  {
   "cell_type": "code",
   "execution_count": 43,
   "id": "f9eb99c5-7c87-48bb-9d88-f3b1af793162",
   "metadata": {},
   "outputs": [
    {
     "data": {
      "text/plain": [
       "True"
      ]
     },
     "execution_count": 43,
     "metadata": {},
     "output_type": "execute_result"
    }
   ],
   "source": [
    "all(numbers)"
   ]
  },
  {
   "cell_type": "code",
   "execution_count": 44,
   "id": "130ad1d7-29be-418b-8ec2-c60fea2e0d38",
   "metadata": {},
   "outputs": [
    {
     "data": {
      "text/plain": [
       "True"
      ]
     },
     "execution_count": 44,
     "metadata": {},
     "output_type": "execute_result"
    }
   ],
   "source": [
    "any(numbers)"
   ]
  },
  {
   "cell_type": "code",
   "execution_count": 45,
   "id": "3c63e3b0-0b11-42e8-8cd1-83c96fbfbf0c",
   "metadata": {},
   "outputs": [],
   "source": [
    "numbers.add(0)"
   ]
  },
  {
   "cell_type": "code",
   "execution_count": 46,
   "id": "d92cac3d-30ce-4334-9103-8733eb18f4e6",
   "metadata": {},
   "outputs": [
    {
     "data": {
      "text/plain": [
       "False"
      ]
     },
     "execution_count": 46,
     "metadata": {},
     "output_type": "execute_result"
    }
   ],
   "source": [
    "all(numbers)"
   ]
  },
  {
   "cell_type": "code",
   "execution_count": 47,
   "id": "e8580bb6-ac64-46ea-b242-efefff126eb6",
   "metadata": {},
   "outputs": [
    {
     "data": {
      "text/plain": [
       "True"
      ]
     },
     "execution_count": 47,
     "metadata": {},
     "output_type": "execute_result"
    }
   ],
   "source": [
    "any(numbers)"
   ]
  },
  {
   "cell_type": "code",
   "execution_count": 48,
   "id": "a60c8955-e97f-40e2-b46d-c798f7b750df",
   "metadata": {},
   "outputs": [
    {
     "name": "stdout",
     "output_type": "stream",
     "text": [
      "[(0, 5), (1, 6), (2, 7), (3, 8)]\n"
     ]
    }
   ],
   "source": [
    "enum = enumerate(l1)\n",
    "print(list(enum))"
   ]
  },
  {
   "cell_type": "code",
   "execution_count": 49,
   "id": "12314a87-fe83-4f5c-b9e8-b5b9d0e4e434",
   "metadata": {},
   "outputs": [
    {
     "data": {
      "text/plain": [
       "32"
      ]
     },
     "execution_count": 49,
     "metadata": {},
     "output_type": "execute_result"
    }
   ],
   "source": [
    "max(numbers)"
   ]
  },
  {
   "cell_type": "code",
   "execution_count": 50,
   "id": "93ab31d4-baf2-4ceb-822a-c081954512e1",
   "metadata": {},
   "outputs": [
    {
     "data": {
      "text/plain": [
       "{0, 1, 2, 3, 6, 7, 8, 32}"
      ]
     },
     "execution_count": 50,
     "metadata": {},
     "output_type": "execute_result"
    }
   ],
   "source": [
    "numbers"
   ]
  },
  {
   "cell_type": "code",
   "execution_count": 51,
   "id": "8abae510-6839-4a87-8aeb-3bf1dc9656f9",
   "metadata": {},
   "outputs": [
    {
     "data": {
      "text/plain": [
       "0"
      ]
     },
     "execution_count": 51,
     "metadata": {},
     "output_type": "execute_result"
    }
   ],
   "source": [
    "min(numbers)"
   ]
  },
  {
   "cell_type": "code",
   "execution_count": 52,
   "id": "0af33d5c-a64f-4e26-af26-ff890990f0a4",
   "metadata": {},
   "outputs": [
    {
     "data": {
      "text/plain": [
       "59"
      ]
     },
     "execution_count": 52,
     "metadata": {},
     "output_type": "execute_result"
    }
   ],
   "source": [
    "sum(numbers)"
   ]
  },
  {
   "cell_type": "code",
   "execution_count": 53,
   "id": "558afb8d-7ad7-428c-9db4-51be73710e85",
   "metadata": {},
   "outputs": [
    {
     "name": "stdout",
     "output_type": "stream",
     "text": [
      "[32, 8, 7, 6, 3, 2, 1, 0]\n"
     ]
    }
   ],
   "source": [
    "print(sorted(numbers,reverse=True))"
   ]
  },
  {
   "cell_type": "code",
   "execution_count": 54,
   "id": "e39cc4a7-c05c-459a-8539-9ccbad1d9f70",
   "metadata": {},
   "outputs": [],
   "source": [
    "n1=numbers.copy()"
   ]
  },
  {
   "cell_type": "code",
   "execution_count": 55,
   "id": "740c7207-e8bb-4472-a2e9-c570214a0cb0",
   "metadata": {},
   "outputs": [
    {
     "data": {
      "text/plain": [
       "{0, 1, 2, 3, 6, 7, 8, 32}"
      ]
     },
     "execution_count": 55,
     "metadata": {},
     "output_type": "execute_result"
    }
   ],
   "source": [
    "n1"
   ]
  },
  {
   "cell_type": "code",
   "execution_count": 56,
   "id": "b6800461-d84e-495c-8733-3f8f94599bbb",
   "metadata": {},
   "outputs": [
    {
     "data": {
      "text/plain": [
       "set()"
      ]
     },
     "execution_count": 56,
     "metadata": {},
     "output_type": "execute_result"
    }
   ],
   "source": [
    "numbers.clear()\n",
    "numbers"
   ]
  },
  {
   "cell_type": "code",
   "execution_count": 57,
   "id": "8b1a70b5-4297-4774-ab73-82da77d35151",
   "metadata": {},
   "outputs": [
    {
     "data": {
      "text/plain": [
       "32"
      ]
     },
     "execution_count": 57,
     "metadata": {},
     "output_type": "execute_result"
    }
   ],
   "source": [
    "n1.pop()"
   ]
  },
  {
   "cell_type": "markdown",
   "id": "f59a12a7-521b-4be2-bb0c-a595f7d54e1b",
   "metadata": {},
   "source": [
    "Python set operations"
   ]
  },
  {
   "cell_type": "code",
   "execution_count": 58,
   "id": "75ecb3a1-4082-4d38-8964-cda1e1125815",
   "metadata": {},
   "outputs": [
    {
     "name": "stdout",
     "output_type": "stream",
     "text": [
      "{1, 2, 3, 4, 5, 6}\n"
     ]
    }
   ],
   "source": [
    "a = {1,2,3}\n",
    "b = {4,5,6}\n",
    "print(a | b)"
   ]
  },
  {
   "cell_type": "code",
   "execution_count": 60,
   "id": "a4983057-a2ab-4230-b404-7f8e3d5224f6",
   "metadata": {},
   "outputs": [
    {
     "name": "stdout",
     "output_type": "stream",
     "text": [
      "{1, 2, 3, 4, 5, 6}\n"
     ]
    }
   ],
   "source": [
    "print(a.union(b))"
   ]
  },
  {
   "cell_type": "code",
   "execution_count": 62,
   "id": "078e99fa-163e-4069-a7aa-65330fdf8091",
   "metadata": {},
   "outputs": [
    {
     "name": "stdout",
     "output_type": "stream",
     "text": [
      "{1, 3}\n"
     ]
    }
   ],
   "source": [
    "c = {1,3,5}\n",
    "d = {1,2,3}\n",
    "print(c & d)"
   ]
  },
  {
   "cell_type": "code",
   "execution_count": 63,
   "id": "5d82005c-aa54-4df8-87ef-0d41fc113fa1",
   "metadata": {},
   "outputs": [
    {
     "name": "stdout",
     "output_type": "stream",
     "text": [
      "{1, 3}\n"
     ]
    }
   ],
   "source": [
    "print(c.intersection(d))"
   ]
  },
  {
   "cell_type": "code",
   "execution_count": 65,
   "id": "94754bf7-419b-4147-82a6-d4816906a195",
   "metadata": {},
   "outputs": [
    {
     "name": "stdout",
     "output_type": "stream",
     "text": [
      "{3, 5}\n"
     ]
    }
   ],
   "source": [
    "e = {2,3,5}\n",
    "f = {1,2,6}\n",
    "print(e-f)"
   ]
  },
  {
   "cell_type": "code",
   "execution_count": 66,
   "id": "e0486ecd-f3c6-4f95-af75-e00ad817a04e",
   "metadata": {},
   "outputs": [
    {
     "name": "stdout",
     "output_type": "stream",
     "text": [
      "{3, 5}\n"
     ]
    }
   ],
   "source": [
    "print(e.difference(f))"
   ]
  },
  {
   "cell_type": "code",
   "execution_count": 67,
   "id": "94762489-c45d-4204-9fc9-491b92253237",
   "metadata": {},
   "outputs": [
    {
     "name": "stdout",
     "output_type": "stream",
     "text": [
      "{1, 3, 5, 6}\n"
     ]
    }
   ],
   "source": [
    "print(e ^ f)"
   ]
  },
  {
   "cell_type": "code",
   "execution_count": 68,
   "id": "9be14d16-656b-44b2-8be6-58e8deb3a962",
   "metadata": {},
   "outputs": [
    {
     "name": "stdout",
     "output_type": "stream",
     "text": [
      "{1, 3, 5, 6}\n"
     ]
    }
   ],
   "source": [
    "print(e.symmetric_difference(f))"
   ]
  },
  {
   "cell_type": "markdown",
   "id": "7acaad65-3e35-410e-862f-4d23a995b7b9",
   "metadata": {},
   "source": [
    "### Dictionary"
   ]
  },
  {
   "cell_type": "markdown",
   "id": "bd222757-3b4d-4564-91b8-70cf09786d78",
   "metadata": {},
   "source": [
    "- Dictionary is a collection that allows to store key-value pairs\n",
    "- Dictionary keys must be immutable\n",
    "- However dictionary is mutable , we can change the value of dictionary element reffering to it's key"
   ]
  },
  {
   "cell_type": "code",
   "execution_count": 69,
   "id": "799c4397-6945-4cde-8951-0f59554319e4",
   "metadata": {},
   "outputs": [
    {
     "data": {
      "text/plain": [
       "{'a': 67, 'b': 87, 'c': 89}"
      ]
     },
     "execution_count": 69,
     "metadata": {},
     "output_type": "execute_result"
    }
   ],
   "source": [
    "marks = {'a':67,'b':87}\n",
    "in_marks = {'c':89}\n",
    "marks.update(in_marks)\n",
    "marks"
   ]
  },
  {
   "cell_type": "code",
   "execution_count": 70,
   "id": "013a313b-8f9c-40fe-90e3-716f2fdd4b3e",
   "metadata": {},
   "outputs": [
    {
     "data": {
      "text/plain": [
       "{'a': 67, 'b': 87, 'c': 89, 'd': 88}"
      ]
     },
     "execution_count": 70,
     "metadata": {},
     "output_type": "execute_result"
    }
   ],
   "source": [
    "marks['d'] = 88\n",
    "marks"
   ]
  },
  {
   "cell_type": "code",
   "execution_count": 72,
   "id": "559660cd-3539-476a-857c-55e70888bff9",
   "metadata": {},
   "outputs": [
    {
     "data": {
      "text/plain": [
       "dict_keys(['a', 'b', 'c', 'd'])"
      ]
     },
     "execution_count": 72,
     "metadata": {},
     "output_type": "execute_result"
    }
   ],
   "source": [
    "marks.keys()"
   ]
  },
  {
   "cell_type": "code",
   "execution_count": 74,
   "id": "cd461fff-fb98-47ad-b1e6-ba88add2ba96",
   "metadata": {},
   "outputs": [
    {
     "data": {
      "text/plain": [
       "dict_values([67, 87, 89, 88])"
      ]
     },
     "execution_count": 74,
     "metadata": {},
     "output_type": "execute_result"
    }
   ],
   "source": [
    "marks.values()"
   ]
  },
  {
   "cell_type": "code",
   "execution_count": 75,
   "id": "5bb190a7-4240-476d-b165-7882b46e0bb4",
   "metadata": {},
   "outputs": [
    {
     "data": {
      "text/plain": [
       "67"
      ]
     },
     "execution_count": 75,
     "metadata": {},
     "output_type": "execute_result"
    }
   ],
   "source": [
    "marks.get('a')"
   ]
  },
  {
   "cell_type": "code",
   "execution_count": 76,
   "id": "66a60761-99b7-42d9-9dda-da777dd2323d",
   "metadata": {},
   "outputs": [
    {
     "data": {
      "text/plain": [
       "('d', 88)"
      ]
     },
     "execution_count": 76,
     "metadata": {},
     "output_type": "execute_result"
    }
   ],
   "source": [
    "marks.popitem()"
   ]
  },
  {
   "cell_type": "code",
   "execution_count": 77,
   "id": "1351dc3d-ad0e-440e-a33a-7692233b5647",
   "metadata": {},
   "outputs": [
    {
     "data": {
      "text/plain": [
       "{'a': 67, 'b': 87, 'c': 89}"
      ]
     },
     "execution_count": 77,
     "metadata": {},
     "output_type": "execute_result"
    }
   ],
   "source": [
    "marks"
   ]
  },
  {
   "cell_type": "code",
   "execution_count": 79,
   "id": "3a020c7f-9368-48b7-a551-afb9861e4814",
   "metadata": {},
   "outputs": [
    {
     "data": {
      "text/plain": [
       "87"
      ]
     },
     "execution_count": 79,
     "metadata": {},
     "output_type": "execute_result"
    }
   ],
   "source": [
    "marks.pop('b')"
   ]
  },
  {
   "cell_type": "code",
   "execution_count": 80,
   "id": "c9f945d1-94dd-4333-96d1-03c2d98d8c13",
   "metadata": {},
   "outputs": [],
   "source": [
    "marks.clear()"
   ]
  },
  {
   "cell_type": "code",
   "execution_count": 81,
   "id": "efa9982b-b33f-46a7-a8ea-4816cffc1539",
   "metadata": {},
   "outputs": [
    {
     "data": {
      "text/plain": [
       "{}"
      ]
     },
     "execution_count": 81,
     "metadata": {},
     "output_type": "execute_result"
    }
   ],
   "source": [
    "marks"
   ]
  },
  {
   "cell_type": "markdown",
   "id": "4658f284-c19b-411e-8895-aa74a00b3931",
   "metadata": {},
   "source": [
    "Dictionary membership test"
   ]
  },
  {
   "cell_type": "code",
   "execution_count": 82,
   "id": "daf48b90-530a-42b1-9f13-26de14b64575",
   "metadata": {},
   "outputs": [
    {
     "name": "stdout",
     "output_type": "stream",
     "text": [
      "False\n"
     ]
    }
   ],
   "source": [
    "my_list = {'a':'hello','b':'hii','c':'how','d':'are'}\n",
    "print('hello' in my_list)"
   ]
  },
  {
   "cell_type": "code",
   "execution_count": 83,
   "id": "6c46dade-c619-4e67-863e-e2db3a01fda0",
   "metadata": {},
   "outputs": [
    {
     "name": "stdout",
     "output_type": "stream",
     "text": [
      "True\n"
     ]
    }
   ],
   "source": [
    "print('a' in my_list)"
   ]
  },
  {
   "cell_type": "markdown",
   "id": "1499752f-7b4c-463c-b939-875879998777",
   "metadata": {},
   "source": [
    "Iterating through a dictionary"
   ]
  },
  {
   "cell_type": "code",
   "execution_count": 85,
   "id": "bd937584-21bf-4592-9a60-63cf1bd68ad3",
   "metadata": {},
   "outputs": [
    {
     "name": "stdout",
     "output_type": "stream",
     "text": [
      "India\n",
      "US\n",
      "======================================\n"
     ]
    },
    {
     "ename": "KeyError",
     "evalue": "'country'",
     "output_type": "error",
     "traceback": [
      "\u001b[1;31m---------------------------------------------------------------------------\u001b[0m",
      "\u001b[1;31mKeyError\u001b[0m                                  Traceback (most recent call last)",
      "Cell \u001b[1;32mIn[85], line 6\u001b[0m\n\u001b[0;32m      4\u001b[0m \u001b[38;5;28mprint\u001b[39m(\u001b[38;5;124m\"\u001b[39m\u001b[38;5;124m======================================\u001b[39m\u001b[38;5;124m\"\u001b[39m)\n\u001b[0;32m      5\u001b[0m \u001b[38;5;28;01mfor\u001b[39;00m country \u001b[38;5;129;01min\u001b[39;00m countries:\n\u001b[1;32m----> 6\u001b[0m     capital \u001b[38;5;241m=\u001b[39m \u001b[43mcountries\u001b[49m\u001b[43m[\u001b[49m\u001b[38;5;124;43m'\u001b[39;49m\u001b[38;5;124;43mcountry\u001b[39;49m\u001b[38;5;124;43m'\u001b[39;49m\u001b[43m]\u001b[49m\n\u001b[0;32m      7\u001b[0m     \u001b[38;5;28mprint\u001b[39m(capital)\n",
      "\u001b[1;31mKeyError\u001b[0m: 'country'"
     ]
    }
   ],
   "source": [
    "countries = {'India':'delho','US':'New york'}\n",
    "for country in countries:\n",
    "    print(country)\n",
    "print(\"======================================\")\n",
    "for country in countries:\n",
    "    capital = countries['country']\n",
    "    print(capital)"
   ]
  },
  {
   "cell_type": "code",
   "execution_count": null,
   "id": "a63cdfbb-36b4-4c0b-a06b-34a7debfb89b",
   "metadata": {},
   "outputs": [],
   "source": []
  }
 ],
 "metadata": {
  "kernelspec": {
   "display_name": "Python 3 (ipykernel)",
   "language": "python",
   "name": "python3"
  },
  "language_info": {
   "codemirror_mode": {
    "name": "ipython",
    "version": 3
   },
   "file_extension": ".py",
   "mimetype": "text/x-python",
   "name": "python",
   "nbconvert_exporter": "python",
   "pygments_lexer": "ipython3",
   "version": "3.12.0"
  }
 },
 "nbformat": 4,
 "nbformat_minor": 5
}
